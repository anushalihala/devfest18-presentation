{
 "cells": [
  {
   "cell_type": "code",
   "execution_count": 1,
   "metadata": {},
   "outputs": [],
   "source": [
    "import numpy as np\n",
    "import pandas as pd\n",
    "import nltk\n",
    "from nltk.stem.snowball import SnowballStemmer\n",
    "from bs4 import BeautifulSoup\n",
    "import re\n",
    "import os\n",
    "import codecs\n",
    "from sklearn import feature_extraction\n",
    "import mpld3"
   ]
  },
  {
   "cell_type": "markdown",
   "metadata": {},
   "source": [
    "Read movie titles, 100 movies; the last one is empty string"
   ]
  },
  {
   "cell_type": "code",
   "execution_count": 1,
   "metadata": {},
   "outputs": [],
   "source": [
    "titles = open('data/title_list.txt').read().split('\\n')"
   ]
  },
  {
   "cell_type": "code",
   "execution_count": 2,
   "metadata": {},
   "outputs": [
    {
     "data": {
      "text/plain": [
       "101"
      ]
     },
     "execution_count": 2,
     "metadata": {},
     "output_type": "execute_result"
    }
   ],
   "source": [
    "len(titles)"
   ]
  },
  {
   "cell_type": "code",
   "execution_count": 3,
   "metadata": {},
   "outputs": [
    {
     "data": {
      "text/plain": [
       "['The Godfather',\n",
       " 'The Shawshank Redemption',\n",
       " \"Schindler's List\",\n",
       " 'Raging Bull',\n",
       " 'Casablanca',\n",
       " \"One Flew Over the Cuckoo's Nest\",\n",
       " 'Gone with the Wind',\n",
       " 'Citizen Kane',\n",
       " 'The Wizard of Oz',\n",
       " 'Titanic']"
      ]
     },
     "execution_count": 3,
     "metadata": {},
     "output_type": "execute_result"
    }
   ],
   "source": [
    "titles[:10]"
   ]
  },
  {
   "cell_type": "code",
   "execution_count": 6,
   "metadata": {},
   "outputs": [],
   "source": [
    "titles = titles[:100]\n",
    "# Just turning it around"
   ]
  },
  {
   "cell_type": "markdown",
   "metadata": {},
   "source": [
    "Read Genres information"
   ]
  },
  {
   "cell_type": "code",
   "execution_count": 7,
   "metadata": {},
   "outputs": [],
   "source": [
    "genres = open('data/genres_list.txt').read().split('\\n')\n",
    "genres = genres[:100]"
   ]
  },
  {
   "cell_type": "code",
   "execution_count": 8,
   "metadata": {},
   "outputs": [
    {
     "data": {
      "text/plain": [
       "\"[u' Crime', u' Drama']\""
      ]
     },
     "execution_count": 8,
     "metadata": {},
     "output_type": "execute_result"
    }
   ],
   "source": [
    "genres[0]"
   ]
  },
  {
   "cell_type": "markdown",
   "metadata": {},
   "source": [
    "Read in the synopses from wiki"
   ]
  },
  {
   "cell_type": "code",
   "execution_count": 9,
   "metadata": {},
   "outputs": [],
   "source": [
    "synopses_wiki = open('data/synopses_list_wiki.txt').read().split('\\n BREAKS HERE')"
   ]
  },
  {
   "cell_type": "code",
   "execution_count": 10,
   "metadata": {},
   "outputs": [
    {
     "data": {
      "text/plain": [
       "101"
      ]
     },
     "execution_count": 10,
     "metadata": {},
     "output_type": "execute_result"
    }
   ],
   "source": [
    "len(synopses_wiki)"
   ]
  },
  {
   "cell_type": "code",
   "execution_count": 11,
   "metadata": {},
   "outputs": [],
   "source": [
    "synopses_wiki = synopses_wiki[:100]"
   ]
  },
  {
   "cell_type": "code",
   "execution_count": 12,
   "metadata": {},
   "outputs": [
    {
     "data": {
      "text/plain": [
       "' Plot  [edit]  [  [  edit  edit  ]  ]  \\n  On the day of his only daughter\\'s wedding, Vito Corleone hears requests in his role as the Godfather, the Don of a New York crime family. Vito\\'s youngest son, Michael, in a Marine Corps uniform, introduces his girlfriend, Kay Adams, to his family at the sprawling reception. Vito\\'s godson Johnny Fontane, a popular singer, pleads for help in securing a coveted movie role, so Vito dispatches his consigliere, Tom Hagen, to Los Angeles to influence the abrasive studio head, Jack Woltz. Woltz is unmoved until the morning he wakes up in bed with the severed head of his prized stallion.  On the day of his only daughter\\'s wedding,   Vito Corleone  Vito Corleone   hears requests in his role as the Godfather, the   Don  Don   of a New York crime family. Vito\\'s youngest son,   Michael  Michael  , in a   Marine Corps  Marine Corps   uniform, introduces his girlfriend,   Kay Adams  Kay Adams  , to his family at the sprawling reception. Vito\\'s godson   Johnny Fontane  Johnny Fontane  , a popular singer, pleads for help in securing a coveted movie role, so Vito dispatches his   consigliere  consigliere  ,   Tom Hagen  Tom Hagen  , to Los Angeles to influence the abrasive studio head,   Jack Woltz  Jack Woltz  . Woltz is unmoved until the morning he wakes up in bed with the severed head of his prized   stallion  stallion  .  \\n  Shortly before Christmas 1945, drug baron Virgil \"The Turk\" Sollozzo, backed by the Corleones\\' rivals, the Tattaglias, asks Vito for investment in the emerging drug trade and protection through his political connections. Vito disapproves of drug dealers, so he sends his enforcer, Luca Brasi, to spy on them. The family then receives two fish wrapped in Brasi\\'s vest, imparting that he \"sleeps with the fishes\". An assassination attempt by Sollozzo\\'s men lands Vito in the hospital, so his eldest son, Sonny, takes command. Sollozzo kidnaps Hagen to pressure Sonny to accept his deal. Michael thwarts a second assassination attempt on his father at the hospital; his jaw is broken by Police Captain McCluskey, who is also Sollozzo\\'s bodyguard. Sonny retaliates for the attacks on his father by having Tattaglia\\'s son killed. Michael comes up with a plan to hit Sollozzo and McCluskey: on the pretext of settling the dispute, Michael accepts their offer to meet in a Bronx restaurant and, retrieving a planted handgun, murders them.  Shortly before Christmas 1945, drug baron   Virgil \"The Turk\" Sollozzo  Virgil \"The Turk\" Sollozzo  , backed by the Corleones\\' rivals, the Tattaglias, asks Vito for investment in the emerging drug trade and protection through his political connections. Vito disapproves of drug dealers, so he sends his enforcer,   Luca Brasi  Luca Brasi  , to spy on them. The family then receives two fish wrapped in Brasi\\'s vest, imparting that he \"sleeps with the fishes\". An assassination attempt by Sollozzo\\'s men lands Vito in the hospital, so his eldest son,   Sonny  Sonny  , takes command. Sollozzo kidnaps Hagen to pressure Sonny to accept his deal. Michael thwarts a second assassination attempt on his father at the hospital; his jaw is broken by Police Captain McCluskey, who is also Sollozzo\\'s bodyguard. Sonny retaliates for the attacks on his father by having Tattaglia\\'s son killed. Michael comes up with a plan to hit Sollozzo and McCluskey: on the pretext of settling the dispute, Michael accepts their offer to meet in a Bronx restaurant and, retrieving a planted handgun, murders them.  \\n  Despite a clampdown from the authorities, the Five Families erupt in open warfare and the brothers fear for their safety. Michael takes refuge in Sicily, and Fredo Corleone is sheltered by associate Moe Greene in Las Vegas. Sonny attacks his brother-in-law Carlo on the street for abusing his sister Connie and threatens to kill him if he abuses her again. When it happens again, Sonny speeds for her home but assassins ambush him at a highway toll booth and riddle him with submachine gun fire. Michael\\'s time abroad has led to marriage to Apollonia Vitelli. Their euphoria is shattered when a car bomb intended for him takes her life.  Despite a clampdown from the authorities, the   Five Families  Five Families   erupt in open warfare and the brothers fear for their safety. Michael takes refuge in Sicily, and   Fredo Corleone  Fredo Corleone   is sheltered by associate   Moe Greene  Moe Greene   in   Las Vegas  Las Vegas  . Sonny attacks his brother-in-law   Carlo  Carlo   on the street for abusing his sister Connie and threatens to kill him if he abuses her again. When it happens again, Sonny speeds for her home but assassins ambush him at a highway toll booth and riddle him with submachine gun fire. Michael\\'s time abroad has led to marriage to Apollonia Vitelli. Their euphoria is shattered when a car bomb intended for him takes her life.  \\n  Devastated by Sonny\\'s death, Vito decides to end the feuds. Realising that the Tattaglias were under orders of the now dominant Don Emilio Barzini, he promises, before the heads of the Five Families, to withdraw his opposition to their heroin business and forgo revenge for his son\\'s murder. His safety guaranteed, Michael returns home to a father saddened by his involvement in the family business and marries Kay the next year.  Devastated by Sonny\\'s death, Vito decides to end the feuds. Realising that the Tattaglias were under orders of the now dominant Don   Emilio Barzini  Emilio Barzini  , he promises, before the heads of the Five Families, to withdraw his opposition to their heroin business and forgo revenge for his son\\'s murder. His safety guaranteed, Michael returns home to a father saddened by his involvement in the family business and marries Kay the next year.  \\n  With his father at the end of his career and his surviving brother too weak, Michael takes the reins of the family, promising Kay that he will make the business legitimate within five years. To that end, he insists Hagen relocate to Las Vegas and relinquish his role to Vito because Tom is not a \"wartime consigliere\"; the older man agrees Tom should \"have no part in what will happen\" in the coming battles with rival families. When Michael travels to Las Vegas to buy out Greene\\'s stake in the family\\'s casinos, Greene derides the Corleones as a fading power. To add injury to insult, Michael sees Fredo falling under Greene\\'s sway.  With his father at the end of his career and his surviving brother too weak, Michael takes the reins of the family, promising Kay that he will make the business legitimate within five years. To that end, he insists Hagen relocate to Las Vegas and relinquish his role to Vito because Tom is not a \"wartime consigliere\"; the older man agrees Tom should \"have no part in what will happen\" in the coming battles with rival families. When Michael travels to Las Vegas to buy out Greene\\'s stake in the family\\'s casinos, Greene derides the Corleones as a fading power. To add injury to insult, Michael sees Fredo falling under Greene\\'s sway.  \\n  Vito collapses and dies in his garden while playing with Michael\\'s son, Anthony. At the funeral, Salvatore Tessio arranges a meeting between Michael and Don Barzini, signalling his treachery as Vito had warned. The meeting is set for the same day as the christening of Connie\\'s son, to whom Michael will stand as godfather. As the christening proceeds, Corleone assassins, acting on Michael\\'s orders, murder the other New York dons and Moe Greene. Tessio is told that Michael is aware of his betrayal and taken off to his death. After Carlo is questioned by Michael on his involvement in setting up Sonny\\'s murder and confesses he was contacted by Barzini, Peter Clemenza kills him with a wire garrote. Michael is confronted by Connie, who accuses him of having her husband killed. He denies killing Carlo when questioned by Kay, an answer she accepts. As Kay watches warily, Michael receives his capos, who address him as the new Don Corleone.  Vito collapses and dies in his garden while playing with Michael\\'s son,   Anthony  Anthony  . At the funeral,   Salvatore Tessio  Salvatore Tessio   arranges a meeting between Michael and Don Barzini, signalling his treachery as Vito had warned. The meeting is set for the same day as the christening of Connie\\'s son, to whom Michael will stand as godfather. As the christening proceeds, Corleone assassins, acting on Michael\\'s orders, murder the other New York dons and Moe Greene. Tessio is told that Michael is aware of his betrayal and taken off to his death. After Carlo is questioned by Michael on his involvement in setting up Sonny\\'s murder and confesses he was contacted by Barzini,   Peter Clemenza  Peter Clemenza   kills him with a wire   garrote  garrote  . Michael is confronted by Connie, who accuses him of having her husband killed. He denies killing Carlo when questioned by Kay, an answer she accepts. As Kay watches warily, Michael receives his   capos  capos  , who address him as the new Don Corleone.  \\n '"
      ]
     },
     "execution_count": 12,
     "metadata": {},
     "output_type": "execute_result"
    }
   ],
   "source": [
    "synopses_wiki[0]"
   ]
  },
  {
   "cell_type": "markdown",
   "metadata": {},
   "source": [
    "strips html formatting and converts to unicode"
   ]
  },
  {
   "cell_type": "code",
   "execution_count": 59,
   "metadata": {},
   "outputs": [],
   "source": [
    "synopses_clean_wiki = []\n",
    "for text in synopses_wiki:\n",
    "    text = BeautifulSoup(text, 'html.parser').getText()\n",
    "    synopses_clean_wiki.append(text)\n",
    "synopses_wiki = synopses_clean_wiki"
   ]
  },
  {
   "cell_type": "code",
   "execution_count": 60,
   "metadata": {},
   "outputs": [
    {
     "data": {
      "text/plain": [
       "' Plot  [edit]  [  [  edit  edit  ]  ]  \\n  On the day of his only daughter\\'s wedding, Vito Corleone hears requests in his role as the Godfather, the Don of a New York crime family. Vito\\'s youngest son, Michael, in a Marine Corps uniform, introduces his girlfriend, Kay Adams, to his family at the sprawling reception. Vito\\'s godson Johnny Fontane, a popular singer, pleads for help in securing a coveted movie role, so Vito dispatches his consigliere, Tom Hagen, to Los Angeles to influence the abrasive studio head, Jack Woltz. Woltz is unmoved until the morning he wakes up in bed with the severed head of his prized stallion.  On the day of his only daughter\\'s wedding,   Vito Corleone  Vito Corleone   hears requests in his role as the Godfather, the   Don  Don   of a New York crime family. Vito\\'s youngest son,   Michael  Michael  , in a   Marine Corps  Marine Corps   uniform, introduces his girlfriend,   Kay Adams  Kay Adams  , to his family at the sprawling reception. Vito\\'s godson   Johnny Fontane  Johnny Fontane  , a popular singer, pleads for help in securing a coveted movie role, so Vito dispatches his   consigliere  consigliere  ,   Tom Hagen  Tom Hagen  , to Los Angeles to influence the abrasive studio head,   Jack Woltz  Jack Woltz  . Woltz is unmoved until the morning he wakes up in bed with the severed head of his prized   stallion  stallion  .  \\n  Shortly before Christmas 1945, drug baron Virgil \"The Turk\" Sollozzo, backed by the Corleones\\' rivals, the Tattaglias, asks Vito for investment in the emerging drug trade and protection through his political connections. Vito disapproves of drug dealers, so he sends his enforcer, Luca Brasi, to spy on them. The family then receives two fish wrapped in Brasi\\'s vest, imparting that he \"sleeps with the fishes\". An assassination attempt by Sollozzo\\'s men lands Vito in the hospital, so his eldest son, Sonny, takes command. Sollozzo kidnaps Hagen to pressure Sonny to accept his deal. Michael thwarts a second assassination attempt on his father at the hospital; his jaw is broken by Police Captain McCluskey, who is also Sollozzo\\'s bodyguard. Sonny retaliates for the attacks on his father by having Tattaglia\\'s son killed. Michael comes up with a plan to hit Sollozzo and McCluskey: on the pretext of settling the dispute, Michael accepts their offer to meet in a Bronx restaurant and, retrieving a planted handgun, murders them.  Shortly before Christmas 1945, drug baron   Virgil \"The Turk\" Sollozzo  Virgil \"The Turk\" Sollozzo  , backed by the Corleones\\' rivals, the Tattaglias, asks Vito for investment in the emerging drug trade and protection through his political connections. Vito disapproves of drug dealers, so he sends his enforcer,   Luca Brasi  Luca Brasi  , to spy on them. The family then receives two fish wrapped in Brasi\\'s vest, imparting that he \"sleeps with the fishes\". An assassination attempt by Sollozzo\\'s men lands Vito in the hospital, so his eldest son,   Sonny  Sonny  , takes command. Sollozzo kidnaps Hagen to pressure Sonny to accept his deal. Michael thwarts a second assassination attempt on his father at the hospital; his jaw is broken by Police Captain McCluskey, who is also Sollozzo\\'s bodyguard. Sonny retaliates for the attacks on his father by having Tattaglia\\'s son killed. Michael comes up with a plan to hit Sollozzo and McCluskey: on the pretext of settling the dispute, Michael accepts their offer to meet in a Bronx restaurant and, retrieving a planted handgun, murders them.  \\n  Despite a clampdown from the authorities, the Five Families erupt in open warfare and the brothers fear for their safety. Michael takes refuge in Sicily, and Fredo Corleone is sheltered by associate Moe Greene in Las Vegas. Sonny attacks his brother-in-law Carlo on the street for abusing his sister Connie and threatens to kill him if he abuses her again. When it happens again, Sonny speeds for her home but assassins ambush him at a highway toll booth and riddle him with submachine gun fire. Michael\\'s time abroad has led to marriage to Apollonia Vitelli. Their euphoria is shattered when a car bomb intended for him takes her life.  Despite a clampdown from the authorities, the   Five Families  Five Families   erupt in open warfare and the brothers fear for their safety. Michael takes refuge in Sicily, and   Fredo Corleone  Fredo Corleone   is sheltered by associate   Moe Greene  Moe Greene   in   Las Vegas  Las Vegas  . Sonny attacks his brother-in-law   Carlo  Carlo   on the street for abusing his sister Connie and threatens to kill him if he abuses her again. When it happens again, Sonny speeds for her home but assassins ambush him at a highway toll booth and riddle him with submachine gun fire. Michael\\'s time abroad has led to marriage to Apollonia Vitelli. Their euphoria is shattered when a car bomb intended for him takes her life.  \\n  Devastated by Sonny\\'s death, Vito decides to end the feuds. Realising that the Tattaglias were under orders of the now dominant Don Emilio Barzini, he promises, before the heads of the Five Families, to withdraw his opposition to their heroin business and forgo revenge for his son\\'s murder. His safety guaranteed, Michael returns home to a father saddened by his involvement in the family business and marries Kay the next year.  Devastated by Sonny\\'s death, Vito decides to end the feuds. Realising that the Tattaglias were under orders of the now dominant Don   Emilio Barzini  Emilio Barzini  , he promises, before the heads of the Five Families, to withdraw his opposition to their heroin business and forgo revenge for his son\\'s murder. His safety guaranteed, Michael returns home to a father saddened by his involvement in the family business and marries Kay the next year.  \\n  With his father at the end of his career and his surviving brother too weak, Michael takes the reins of the family, promising Kay that he will make the business legitimate within five years. To that end, he insists Hagen relocate to Las Vegas and relinquish his role to Vito because Tom is not a \"wartime consigliere\"; the older man agrees Tom should \"have no part in what will happen\" in the coming battles with rival families. When Michael travels to Las Vegas to buy out Greene\\'s stake in the family\\'s casinos, Greene derides the Corleones as a fading power. To add injury to insult, Michael sees Fredo falling under Greene\\'s sway.  With his father at the end of his career and his surviving brother too weak, Michael takes the reins of the family, promising Kay that he will make the business legitimate within five years. To that end, he insists Hagen relocate to Las Vegas and relinquish his role to Vito because Tom is not a \"wartime consigliere\"; the older man agrees Tom should \"have no part in what will happen\" in the coming battles with rival families. When Michael travels to Las Vegas to buy out Greene\\'s stake in the family\\'s casinos, Greene derides the Corleones as a fading power. To add injury to insult, Michael sees Fredo falling under Greene\\'s sway.  \\n  Vito collapses and dies in his garden while playing with Michael\\'s son, Anthony. At the funeral, Salvatore Tessio arranges a meeting between Michael and Don Barzini, signalling his treachery as Vito had warned. The meeting is set for the same day as the christening of Connie\\'s son, to whom Michael will stand as godfather. As the christening proceeds, Corleone assassins, acting on Michael\\'s orders, murder the other New York dons and Moe Greene. Tessio is told that Michael is aware of his betrayal and taken off to his death. After Carlo is questioned by Michael on his involvement in setting up Sonny\\'s murder and confesses he was contacted by Barzini, Peter Clemenza kills him with a wire garrote. Michael is confronted by Connie, who accuses him of having her husband killed. He denies killing Carlo when questioned by Kay, an answer she accepts. As Kay watches warily, Michael receives his capos, who address him as the new Don Corleone.  Vito collapses and dies in his garden while playing with Michael\\'s son,   Anthony  Anthony  . At the funeral,   Salvatore Tessio  Salvatore Tessio   arranges a meeting between Michael and Don Barzini, signalling his treachery as Vito had warned. The meeting is set for the same day as the christening of Connie\\'s son, to whom Michael will stand as godfather. As the christening proceeds, Corleone assassins, acting on Michael\\'s orders, murder the other New York dons and Moe Greene. Tessio is told that Michael is aware of his betrayal and taken off to his death. After Carlo is questioned by Michael on his involvement in setting up Sonny\\'s murder and confesses he was contacted by Barzini,   Peter Clemenza  Peter Clemenza   kills him with a wire   garrote  garrote  . Michael is confronted by Connie, who accuses him of having her husband killed. He denies killing Carlo when questioned by Kay, an answer she accepts. As Kay watches warily, Michael receives his   capos  capos  , who address him as the new Don Corleone.  \\n '"
      ]
     },
     "execution_count": 60,
     "metadata": {},
     "output_type": "execute_result"
    }
   ],
   "source": [
    "synopses_wiki[0]"
   ]
  },
  {
   "cell_type": "markdown",
   "metadata": {},
   "source": [
    "Read synopses information from imdb, which might be different from wiki. Also cleaned as above."
   ]
  },
  {
   "cell_type": "code",
   "execution_count": 61,
   "metadata": {},
   "outputs": [],
   "source": [
    "synopses_imdb = open('data/synopses_list_imdb.txt').read().split('\\n BREAKS HERE')\n",
    "synopses_imdb = synopses_imdb[:100]\n",
    "\n",
    "synopses_clean_imdb = []\n",
    "\n",
    "for text in synopses_imdb:\n",
    "    text = BeautifulSoup(text, 'html.parser').getText()\n",
    "    synopses_clean_imdb.append(text)\n",
    "synopses_imdb = synopses_clean_imdb"
   ]
  },
  {
   "cell_type": "code",
   "execution_count": 62,
   "metadata": {},
   "outputs": [
    {
     "data": {
      "text/plain": [
       "'\\n\\nIn late summer 1945, guests are gathered for the wedding reception of Don Vito Corleone\\'s daughter Connie (Talia Shire) and Carlo Rizzi (Gianni Russo). Vito (Marlon Brando), the head of the Corleone Mafia family, is known to friends and associates as \"Godfather.\" He and Tom Hagen (Robert Duvall), the Corleone family lawyer, are hearing requests for favors because, according to Italian tradition, \"no Sicilian can refuse a request on his daughter\\'s wedding day.\" One of the men who asks the Don for a favor is Amerigo Bonasera, a successful mortician and acquaintance of the Don, whose daughter was brutally beaten by two young men because she refused their advances; the men received minimal punishment. The Don is disappointed in Bonasera, who\\'d avoided most contact with the Don due to Corleone\\'s nefarious business dealings. The Don\\'s wife is godmother to Bonasera\\'s shamed daughter, a relationship the Don uses to extract new loyalty from the undertaker. The Don agrees to have his men punish the young men responsible.Meanwhile, the Don\\'s youngest son Michael (Al Pacino), a decorated Marine hero returning from World War II service, arrives at the wedding and tells his girlfriend Kay Adams (Diane Keaton) anecdotes about his family, informing her about his father\\'s criminal life; he reassures her that he is different from his family and doesn\\'t plan to join them in their criminal dealings. The wedding scene serves as critical exposition for the remainder of the film, as Michael introduces the main characters to Kay. Fredo (John Cazale), Michael\\'s next older brother, is a bit dim-witted and quite drunk by the time he finds Michael at the party. Sonny (James Caan), the Don\\'s eldest child and next in line to become Don upon his father\\'s retirement, is married but he is a hot-tempered philanderer who sneaks into a bedroom to have sex with one of Connie\\'s bridesmaids, Lucy Mancini (Jeannie Linero). Tom Hagen is not related to the family by blood but is considered one of the Don\\'s sons because he was homeless when he befriended Sonny in the Little Italy neighborhood of Manhattan and the Don took him in. Now a talented attorney, Tom is being groomed for the important position of consigliere (counselor) to the Don, despite his non-Sicilian heritage.Also among the guests at the celebration is the famous singer Johnny Fontane (Al Martino), Corleone\\'s godson, who has come from Hollywood to petition Vito\\'s help in landing a movie role that will revitalize his flagging career. Jack Woltz (John Marley), the head of the studio, denies Fontane the part (a character much like Johnny himself), which will make him an even bigger star, but Don Corleone explains to Johnny: \"I\\'m gonna make him an offer he can\\'t refuse.\" The Don also receives congratulatory salutations from Luca Brasi, a terrifying enforcer in the criminal underworld, and fills a request from the baker who made Connie\\'s wedding cake who wishes for his nephew Enzo to become an American citizen.After the wedding, Hagen is dispatched to Los Angeles to meet with Woltz, but Woltz angrily tells him that he will never cast Fontane in the role. Woltz holds a grudge because Fontane seduced and \"ruined\" a starlet who Woltz had been grooming for stardom and with whom he had a sexual relationship. Woltz is persuaded to give Johnny the role, however, when he wakes up early the next morning and feels something wet in his bed. He pulls back the sheets and finds himself in a pool of blood; he screams in horror when he discovers the severed head of his prized $600,000 stud horse, Khartoum, in the bed with him. (A deleted scene from the film implies that Luca Brasi (Lenny Montana), Vito\\'s top \"button man\" or hitman, is responsible.)Upon Hagen\\'s return, the family meets with Virgil \"The Turk\" Sollozzo (Al Lettieri), who is being backed by the rival Tattaglia family. He asks Don Corleone for financing as well as political and legal protection for importing and distributing heroin. Despite the huge profit to be made, Vito Corleone refuses, explaining that his political influence would be jeopardized by a move into the narcotics trade. The Don\\'s eldest son, Sonny, who had earlier urged the family to enter the narcotics trade, breaks ranks during the meeting and questions Sollozzo\\'s assurances as to the Corleone Family\\'s investment being guaranteed by the Tattaglia Family. His father, angry at Sonny\\'s dissension in a non-family member\\'s presence, privately rebukes him later. Don Corleone then dispatches Luca Brasi to infiltrate Sollozzo\\'s organization and report back with information. During the meeting, while Brasi is bent over to allow Bruno Tattaglia to light his cigarette, he is stabbed in the hand by Sollozzo, and is subsequently garroted by an assassin.Soon after his meeting with Sollozzo, Don Corleone is gunned down in an assassination attempt just outside his office, and it is not immediately known whether he has survived. Fredo Corleone had been assigned driving and protection duty for his father when Paulie Gatto, the Don\\'s usual bodyguard, had called in sick. Fredo proves to be ineffectual, fumbling with his gun and unable to shoot back. When Sonny hears about the Don being shot and Paulie\\'s absence, he orders Clemenza (Richard S. Castellano) to find Paulie and bring him to the Don\\'s house.Sollozzo abducts Tom Hagen and persuades him to offer Sonny the deal previously offered to his father. Enraged, Sonny refuses to consider it and issues an ultimatum to the Tattaglias: turn over Sollozzo or face a lengthy, bloody and costly (for both sides) gang war. They refuse, and instead send Sonny \"a Sicilian message,\" in the form of two fresh fish wrapped in Luca Brasi\\'s bullet-proof vest, to tell the Corleones that Luca Brasi \"sleeps with the fishes.\"Clemenza later takes Paulie and one of the family\\'s hitmen, Rocco Lampone, for a drive into Manhattan. Sonny wants to \"go to the mattresses\" -- set up beds in apartments for Corleone button men to operate out of in the event that the crime war breaks out. On their way back from Manhattan, Clemenza has Paulie stop the car in a remote area so he can urinate. Rocco shoots Paulie dead; he and Clemenza leave Paulie and the car behind.Michael, whom the other Mafia families consider a \"civilian\" uninvolved in mob business, visits his father at a small private hospital. He is shocked to find that no one is guarding him. Realizing that his father is again being set up to be killed, he calls Sonny for help, moves his father to another room, and goes outside to watch the entrance. Michael enlists help from Enzo the baker (Gabriele Torrei), who has come to the hospital to pay his respects. Together, they bluff away Sollozzo\\'s men as they drive by. Police cars soon appear bringing the corrupt Captain McCluskey (Sterling Hayden), who viciously punches Michael in the cheek and breaks his jaw when Michael insinuates that Sollozzo paid McCluskey to set up his father. Just then, Hagen arrives with \"private detectives\" licensed to carry guns to protect Don Corleone, and he takes the injured Michael home. Sonny responds by having Bruno Tattaglia (Tony Giorgio), the eldest son and underboss of Don Phillip Tattaglia (Victor Rendina), killed (off-camera).Following the attempt on the Don\\'s life at the hospital, Sollozzo requests a meeting with the Corleones, which Captain McCluskey will attend as Sollozzo\\'s bodyguard. When Michael volunteers to kill both men during the meeting, Sonny and the other senior Family members are amused; however, Michael convinces them that he is serious and that killing Sollozzo and McCluskey is in the family\\'s interest: \"It\\'s not personal. It\\'s strictly business.\" Because Michael is considered a civilian, he won\\'t be regarded as a suspicious ambassador for the Corleones. Although police officers are usually off limits for hits, Michael argues that since McCluskey is corrupt and has illegal dealings with Sollozzo, he is fair game. Michael also implies that newspaper reporters that the Corleones have on their payroll would delight in publishing stories about a corrupt police captain.Michael meets with Clemenza, one of his father\\'s caporegimes (captains), who prepares a small pistol for him, covering the trigger and grip with tape to prevent any fingerprint evidence. He instructs Michael about the proper way to perform the assassination and tells him to leave the gun behind. He also tells Michael that the family were all very proud of Michael for becoming a war hero during his service in the Marines. Clemenza shows great confidence that Michael can perform the job and tells him it will all go smoothly. The plan is to have the Corleone\\'s informers find out the location of the meeting and plant the revolver before Michael, Sollozzo and McCluskey arrive.Before the meeting in a small Italian restaurant, McCluskey frisks Michael for weapons and finds him clean. Michael excuses himself to go to the bathroom, where he retrieves the planted revolver. Returning to the table, he fatally shoots Sollozzo, then McCluskey. Michael is sent to hide in Sicily while the Corleone family prepares for all-out warfare with the Five Families (who are united against the Corleones) as well as a general clampdown on the mob by the police and government authorities. When the don returns home from the hospital, he is distraught to learn that it was Michael who killed Sollozzo and McCluskey.Meanwhile, Connie and Carlo\\'s marriage is disintegrating. They argue publicly over Carlo\\'s suspected infidelity and his possessive behavior toward Connie. By Italian tradition, nobody, not even a high-ranking Mafia don, can intervene in a married couple\\'s personal disputes, even if they involve infidelity, money, or domestic abuse. One day, Sonny sees a bruise on Connie\\'s face and she tells him that Carlo hit her after she asked him if he was having an affair. Sonny tracks down and severely beats up Carlo Rizzi in the middle of a crowded street for brutalizing the pregnant Connie, and threatens to kill Carlo if he ever abuses Connie again. An angry Carlo responds by plotting with Tattaglia and Don Emilio Barzini (Richard Conte), the Corleones\\' chief rivals, to have Sonny killed.Later, Carlo has one of his mistresses phone his house, knowing that Connie will answer. The woman asks Connie to tell Carlo not to meet her tonight. The very pregnant and distraught Connie assaults Carlo; he takes advantage of the altercation to beat Connie in order to lure Sonny out in the open and away from the Corleone compound. When Connie phones the compound to tell Sonny that Carlo has beaten her again, the furious Sonny drives off (alone and unescorted) to fulfill his threat against Carlo. On the way to Connie and Carlo\\'s house, Sonny is ambushed at a toll booth on the Long Island Causeway and violently shot to death by several carloads of hitmen wielding Thompson sub-machine guns.Tom Hagen relays the news of Sonny\\'s massacre to the Don, who calls in the favor from Bonasera to personally handle the embalming of Sonny\\'s body. Rather than seek revenge for Sonny\\'s killing, Don Corleone meets with the heads of the Five Families to negotiate a cease-fire. Not only is the conflict draining all their assets and threatening their survival, but ending it is the only way that Michael can return home safely. Reversing his previous decision, Vito agrees that the Corleone family will provide political protection for Tattaglia\\'s traffic in heroin, as long as it is controlled and not sold to children. At the meeting, Don Corleone deduces that Don Barzini, not Tattaglia, was ultimately behind the start of the mob war and Sonny\\'s death.In Sicily, Michael patiently waits out his exile, protected by Don Tommasino (Corrado Gaipa), an old family friend. Michael aimlessly wanders the countryside, accompanied by his ever-present bodyguards, Calo (Franco Citti) and Fabrizio (Angelo Infanti). In a small village, Michael meets and falls in love with Apollonia Vitelli (Simonetta Stefanelli), the beautiful young daughter of a bar owner. They court and marry in the traditional Sicilian fashion, but soon Michael\\'s presence becomes known to Corleone enemies. As the couple is about to be moved to a safer location, Apollonia is killed as a result of a rigged car (originally intended for Michael), exploding on ignition; Michael, who watched the car blow up, spots Fabrizio hurriedly leaving the grounds seconds before the explosion, implicating him in the assassination plot. (In a deleted scene, Fabrizio is found years later and killed.)With his safety guaranteed, Michael returns home. More than a year later, in 1950, he reunites with his former girlfriend Kay after a total of four years of separation -- three in Italy and one in America. He tells her he wants them to be married. Although Kay is hurt that he waited so long to contact her, she accepts his proposal. With Don Vito semi-retired, Sonny dead, and middle brother Fredo considered incapable of running the family business, Michael is now in charge; he promises Kay he will make the family business completely legitimate within five years.Two years later, Clemenza and Salvatore Tessio (Abe Vigoda), complain that they are being pushed around by the Barzini Family and ask permission to strike back, but Michael denies the request. He plans to move the family operations to Nevada and after that, Clemenza and Tessio may break away to form their own families. Michael further promises Connie\\'s husband, Carlo, that he will be his right hand man in Nevada (Carlo had grown up there), unaware of his part in Sonny\\'s assassination. Tom Hagen has been removed as consigliere and is now merely the family\\'s lawyer, with Vito serving as consigliere. Privately, Hagen inquires about his change in status, and also questions Michael about a new regime of \"soldiers\" secretly being built under Rocco Lampone (Tom Rosqui). Don Vito explains to Hagen that Michael is acting on his advice.Another year or so later, Michael travels to Las Vegas and meets with Moe Greene (Alex Rocco), a rich and shrewd casino boss looking to expand his business dealings. After the Don\\'s attempted assassination, Fredo had been sent to Las Vegas to learn about the casino business from Greene. Michael arrogantly offers to buy out Greene but is rudely rebuffed. Greene believes the Corleones are weak and that he can secure a better deal from Barzini. As Moe and Michael heatedly negotiate, Fredo sides with Moe. Afterward, Michael warns Fredo to never again \"take sides with anyone against the family.\"Michael returns home. In a private moment, Vito explains his expectation that the Family\\'s enemies will attempt to murder Michael by using a trusted associate to arrange a meeting as a pretext for assassination. Vito also reveals that he had never really intended a life of crime for Michael, hoping that his youngest son would hold legitimate power as a senator or governor. Some months later, Vito collapses and dies while playing with his young grandson Anthony (Anthony Gounaris) in his tomato garden. At the burial, Tessio conveys a proposal for a meeting with Barzini, which identifies Tessio as the traitor that Vito was expecting.Michael arranges for a series of murders to occur simultaneously while he is standing godfather to Connie\\'s and Carlo\\'s newborn son at the church:Don Stracci (Don Costello) is gunned down along with his bodyguard in a hotel elevator by a shotgun-wielding Clemenza.Moe Greene is killed while having a massage, shot through the eye by an unidentified assassin.Don Cuneo (Rudy Bond) is trapped in a revolving door at the St. Regis Hotel and shot dead by soldier Willi Cicci (Joe Spinell).Don Tattaglia is assassinated in his bed, along with a prostitute, by Rocco Lampone and an unknown associate.Don Barzini is killed on the steps of his office building along with his bodyguard and driver, shot by Al Neri (Richard Bright), disguised in his old police uniform.After the baptism, Tessio believes he and Hagen are on their way to the meeting between Michael and Barzini that he has arranged. Instead, he is surrounded by Willi Cicci and other button men as Hagen steps away. Realizing that Michael has uncovered his betrayal, Tessio tells Hagen that he always respected Michael, and that his disloyalty \"was only business.\" He asks if Tom can get him off for \"old times\\' sake,\" but Tom says he cannot. Tessio is driven away and never seen again (it is implied that Cicci shoots and kills Tessio with his own gun after he disarms him prior to entering the car).Meanwhile, Michael confronts Carlo about Sonny\\'s murder and forces him to admit his role in setting up the ambush, having been approached by Barzini himself. (The hitmen who killed Sonny were the core members of Barzini\\'s personal bodyguard.) Michael assures Carlo he will not be killed, but his punishment is exclusion from all family business. He hands Carlo a plane ticket to exile in Las Vegas. However, when Carlo gets into a car headed for the airport, he is immediately garroted to death by Clemenza, on Michael\\'s orders.Later, a hysterical Connie confronts Michael at the Corleone compound as movers carry away the furniture in preparation for the family move to Nevada. She accuses him of murdering Carlo in retribution for Carlo\\'s brutal treatment of her and for Carlo\\'s suspected involvement in Sonny\\'s murder. After Connie is removed from the house, Kay questions Michael about Connie\\'s accusation, but he refuses to answer, reminding her to never ask him about his business or what he does for a living. She insists, and Michael outright lies, reassuring his wife that he played no role in Carlo\\'s death. Kay believes him and is relieved. The film ends with Clemenza and new caporegimes Rocco Lampone and Al Neri arriving and paying their respects to Michael. Clemenza kisses Michael\\'s hand and greets him as \"Don Corleone.\" As Kay watches, the office door is closed.\\n\\n'"
      ]
     },
     "execution_count": 62,
     "metadata": {},
     "output_type": "execute_result"
    }
   ],
   "source": [
    "synopses_imdb[0]"
   ]
  },
  {
   "cell_type": "markdown",
   "metadata": {},
   "source": [
    "Combine synopses from wiki and imdb"
   ]
  },
  {
   "cell_type": "code",
   "execution_count": 63,
   "metadata": {},
   "outputs": [],
   "source": [
    "synopses = []\n",
    "for i in range(len(synopses_wiki)):\n",
    "    item = synopses_wiki[i] + synopses_imdb[i]\n",
    "    synopses.append(item)"
   ]
  },
  {
   "cell_type": "code",
   "execution_count": 64,
   "metadata": {},
   "outputs": [
    {
     "data": {
      "text/plain": [
       "' Plot  [edit]  [  [  edit  edit  ]  ]  \\n  On the day of his only daughter\\'s wedding, Vito Corleone hears requests in his role as the Godfather, the Don of a New York crime family. Vito\\'s youngest son, Michael, in a Marine Corps uniform, introduces his girlfriend, Kay Adams, to his family at the sprawling reception. Vito\\'s godson Johnny Fontane, a popular singer, pleads for help in securing a coveted movie role, so Vito dispatches his consigliere, Tom Hagen, to Los Angeles to influence the abrasive studio head, Jack Woltz. Woltz is unmoved until the morning he wakes up in bed with the severed head of his prized stallion.  On the day of his only daughter\\'s wedding,   Vito Corleone  Vito Corleone   hears requests in his role as the Godfather, the   Don  Don   of a New York crime family. Vito\\'s youngest son,   Michael  Michael  , in a   Marine Corps  Marine Corps   uniform, introduces his girlfriend,   Kay Adams  Kay Adams  , to his family at the sprawling reception. Vito\\'s godson   Johnny Fontane  Johnny Fontane  , a popular singer, pleads for help in securing a coveted movie role, so Vito dispatches his   consigliere  consigliere  ,   Tom Hagen  Tom Hagen  , to Los Angeles to influence the abrasive studio head,   Jack Woltz  Jack Woltz  . Woltz is unmoved until the morning he wakes up in bed with the severed head of his prized   stallion  stallion  .  \\n  Shortly before Christmas 1945, drug baron Virgil \"The Turk\" Sollozzo, backed by the Corleones\\' rivals, the Tattaglias, asks Vito for investment in the emerging drug trade and protection through his political connections. Vito disapproves of drug dealers, so he sends his enforcer, Luca Brasi, to spy on them. The family then receives two fish wrapped in Brasi\\'s vest, imparting that he \"sleeps with the fishes\". An assassination attempt by Sollozzo\\'s men lands Vito in the hospital, so his eldest son, Sonny, takes command. Sollozzo kidnaps Hagen to pressure Sonny to accept his deal. Michael thwarts a second assassination attempt on his father at the hospital; his jaw is broken by Police Captain McCluskey, who is also Sollozzo\\'s bodyguard. Sonny retaliates for the attacks on his father by having Tattaglia\\'s son killed. Michael comes up with a plan to hit Sollozzo and McCluskey: on the pretext of settling the dispute, Michael accepts their offer to meet in a Bronx restaurant and, retrieving a planted handgun, murders them.  Shortly before Christmas 1945, drug baron   Virgil \"The Turk\" Sollozzo  Virgil \"The Turk\" Sollozzo  , backed by the Corleones\\' rivals, the Tattaglias, asks Vito for investment in the emerging drug trade and protection through his political connections. Vito disapproves of drug dealers, so he sends his enforcer,   Luca Brasi  Luca Brasi  , to spy on them. The family then receives two fish wrapped in Brasi\\'s vest, imparting that he \"sleeps with the fishes\". An assassination attempt by Sollozzo\\'s men lands Vito in the hospital, so his eldest son,   Sonny  Sonny  , takes command. Sollozzo kidnaps Hagen to pressure Sonny to accept his deal. Michael thwarts a second assassination attempt on his father at the hospital; his jaw is broken by Police Captain McCluskey, who is also Sollozzo\\'s bodyguard. Sonny retaliates for the attacks on his father by having Tattaglia\\'s son killed. Michael comes up with a plan to hit Sollozzo and McCluskey: on the pretext of settling the dispute, Michael accepts their offer to meet in a Bronx restaurant and, retrieving a planted handgun, murders them.  \\n  Despite a clampdown from the authorities, the Five Families erupt in open warfare and the brothers fear for their safety. Michael takes refuge in Sicily, and Fredo Corleone is sheltered by associate Moe Greene in Las Vegas. Sonny attacks his brother-in-law Carlo on the street for abusing his sister Connie and threatens to kill him if he abuses her again. When it happens again, Sonny speeds for her home but assassins ambush him at a highway toll booth and riddle him with submachine gun fire. Michael\\'s time abroad has led to marriage to Apollonia Vitelli. Their euphoria is shattered when a car bomb intended for him takes her life.  Despite a clampdown from the authorities, the   Five Families  Five Families   erupt in open warfare and the brothers fear for their safety. Michael takes refuge in Sicily, and   Fredo Corleone  Fredo Corleone   is sheltered by associate   Moe Greene  Moe Greene   in   Las Vegas  Las Vegas  . Sonny attacks his brother-in-law   Carlo  Carlo   on the street for abusing his sister Connie and threatens to kill him if he abuses her again. When it happens again, Sonny speeds for her home but assassins ambush him at a highway toll booth and riddle him with submachine gun fire. Michael\\'s time abroad has led to marriage to Apollonia Vitelli. Their euphoria is shattered when a car bomb intended for him takes her life.  \\n  Devastated by Sonny\\'s death, Vito decides to end the feuds. Realising that the Tattaglias were under orders of the now dominant Don Emilio Barzini, he promises, before the heads of the Five Families, to withdraw his opposition to their heroin business and forgo revenge for his son\\'s murder. His safety guaranteed, Michael returns home to a father saddened by his involvement in the family business and marries Kay the next year.  Devastated by Sonny\\'s death, Vito decides to end the feuds. Realising that the Tattaglias were under orders of the now dominant Don   Emilio Barzini  Emilio Barzini  , he promises, before the heads of the Five Families, to withdraw his opposition to their heroin business and forgo revenge for his son\\'s murder. His safety guaranteed, Michael returns home to a father saddened by his involvement in the family business and marries Kay the next year.  \\n  With his father at the end of his career and his surviving brother too weak, Michael takes the reins of the family, promising Kay that he will make the business legitimate within five years. To that end, he insists Hagen relocate to Las Vegas and relinquish his role to Vito because Tom is not a \"wartime consigliere\"; the older man agrees Tom should \"have no part in what will happen\" in the coming battles with rival families. When Michael travels to Las Vegas to buy out Greene\\'s stake in the family\\'s casinos, Greene derides the Corleones as a fading power. To add injury to insult, Michael sees Fredo falling under Greene\\'s sway.  With his father at the end of his career and his surviving brother too weak, Michael takes the reins of the family, promising Kay that he will make the business legitimate within five years. To that end, he insists Hagen relocate to Las Vegas and relinquish his role to Vito because Tom is not a \"wartime consigliere\"; the older man agrees Tom should \"have no part in what will happen\" in the coming battles with rival families. When Michael travels to Las Vegas to buy out Greene\\'s stake in the family\\'s casinos, Greene derides the Corleones as a fading power. To add injury to insult, Michael sees Fredo falling under Greene\\'s sway.  \\n  Vito collapses and dies in his garden while playing with Michael\\'s son, Anthony. At the funeral, Salvatore Tessio arranges a meeting between Michael and Don Barzini, signalling his treachery as Vito had warned. The meeting is set for the same day as the christening of Connie\\'s son, to whom Michael will stand as godfather. As the christening proceeds, Corleone assassins, acting on Michael\\'s orders, murder the other New York dons and Moe Greene. Tessio is told that Michael is aware of his betrayal and taken off to his death. After Carlo is questioned by Michael on his involvement in setting up Sonny\\'s murder and confesses he was contacted by Barzini, Peter Clemenza kills him with a wire garrote. Michael is confronted by Connie, who accuses him of having her husband killed. He denies killing Carlo when questioned by Kay, an answer she accepts. As Kay watches warily, Michael receives his capos, who address him as the new Don Corleone.  Vito collapses and dies in his garden while playing with Michael\\'s son,   Anthony  Anthony  . At the funeral,   Salvatore Tessio  Salvatore Tessio   arranges a meeting between Michael and Don Barzini, signalling his treachery as Vito had warned. The meeting is set for the same day as the christening of Connie\\'s son, to whom Michael will stand as godfather. As the christening proceeds, Corleone assassins, acting on Michael\\'s orders, murder the other New York dons and Moe Greene. Tessio is told that Michael is aware of his betrayal and taken off to his death. After Carlo is questioned by Michael on his involvement in setting up Sonny\\'s murder and confesses he was contacted by Barzini,   Peter Clemenza  Peter Clemenza   kills him with a wire   garrote  garrote  . Michael is confronted by Connie, who accuses him of having her husband killed. He denies killing Carlo when questioned by Kay, an answer she accepts. As Kay watches warily, Michael receives his   capos  capos  , who address him as the new Don Corleone.  \\n \\n\\nIn late summer 1945, guests are gathered for the wedding reception of Don Vito Corleone\\'s daughter Connie (Talia Shire) and Carlo Rizzi (Gianni Russo). Vito (Marlon Brando), the head of the Corleone Mafia family, is known to friends and associates as \"Godfather.\" He and Tom Hagen (Robert Duvall), the Corleone family lawyer, are hearing requests for favors because, according to Italian tradition, \"no Sicilian can refuse a request on his daughter\\'s wedding day.\" One of the men who asks the Don for a favor is Amerigo Bonasera, a successful mortician and acquaintance of the Don, whose daughter was brutally beaten by two young men because she refused their advances; the men received minimal punishment. The Don is disappointed in Bonasera, who\\'d avoided most contact with the Don due to Corleone\\'s nefarious business dealings. The Don\\'s wife is godmother to Bonasera\\'s shamed daughter, a relationship the Don uses to extract new loyalty from the undertaker. The Don agrees to have his men punish the young men responsible.Meanwhile, the Don\\'s youngest son Michael (Al Pacino), a decorated Marine hero returning from World War II service, arrives at the wedding and tells his girlfriend Kay Adams (Diane Keaton) anecdotes about his family, informing her about his father\\'s criminal life; he reassures her that he is different from his family and doesn\\'t plan to join them in their criminal dealings. The wedding scene serves as critical exposition for the remainder of the film, as Michael introduces the main characters to Kay. Fredo (John Cazale), Michael\\'s next older brother, is a bit dim-witted and quite drunk by the time he finds Michael at the party. Sonny (James Caan), the Don\\'s eldest child and next in line to become Don upon his father\\'s retirement, is married but he is a hot-tempered philanderer who sneaks into a bedroom to have sex with one of Connie\\'s bridesmaids, Lucy Mancini (Jeannie Linero). Tom Hagen is not related to the family by blood but is considered one of the Don\\'s sons because he was homeless when he befriended Sonny in the Little Italy neighborhood of Manhattan and the Don took him in. Now a talented attorney, Tom is being groomed for the important position of consigliere (counselor) to the Don, despite his non-Sicilian heritage.Also among the guests at the celebration is the famous singer Johnny Fontane (Al Martino), Corleone\\'s godson, who has come from Hollywood to petition Vito\\'s help in landing a movie role that will revitalize his flagging career. Jack Woltz (John Marley), the head of the studio, denies Fontane the part (a character much like Johnny himself), which will make him an even bigger star, but Don Corleone explains to Johnny: \"I\\'m gonna make him an offer he can\\'t refuse.\" The Don also receives congratulatory salutations from Luca Brasi, a terrifying enforcer in the criminal underworld, and fills a request from the baker who made Connie\\'s wedding cake who wishes for his nephew Enzo to become an American citizen.After the wedding, Hagen is dispatched to Los Angeles to meet with Woltz, but Woltz angrily tells him that he will never cast Fontane in the role. Woltz holds a grudge because Fontane seduced and \"ruined\" a starlet who Woltz had been grooming for stardom and with whom he had a sexual relationship. Woltz is persuaded to give Johnny the role, however, when he wakes up early the next morning and feels something wet in his bed. He pulls back the sheets and finds himself in a pool of blood; he screams in horror when he discovers the severed head of his prized $600,000 stud horse, Khartoum, in the bed with him. (A deleted scene from the film implies that Luca Brasi (Lenny Montana), Vito\\'s top \"button man\" or hitman, is responsible.)Upon Hagen\\'s return, the family meets with Virgil \"The Turk\" Sollozzo (Al Lettieri), who is being backed by the rival Tattaglia family. He asks Don Corleone for financing as well as political and legal protection for importing and distributing heroin. Despite the huge profit to be made, Vito Corleone refuses, explaining that his political influence would be jeopardized by a move into the narcotics trade. The Don\\'s eldest son, Sonny, who had earlier urged the family to enter the narcotics trade, breaks ranks during the meeting and questions Sollozzo\\'s assurances as to the Corleone Family\\'s investment being guaranteed by the Tattaglia Family. His father, angry at Sonny\\'s dissension in a non-family member\\'s presence, privately rebukes him later. Don Corleone then dispatches Luca Brasi to infiltrate Sollozzo\\'s organization and report back with information. During the meeting, while Brasi is bent over to allow Bruno Tattaglia to light his cigarette, he is stabbed in the hand by Sollozzo, and is subsequently garroted by an assassin.Soon after his meeting with Sollozzo, Don Corleone is gunned down in an assassination attempt just outside his office, and it is not immediately known whether he has survived. Fredo Corleone had been assigned driving and protection duty for his father when Paulie Gatto, the Don\\'s usual bodyguard, had called in sick. Fredo proves to be ineffectual, fumbling with his gun and unable to shoot back. When Sonny hears about the Don being shot and Paulie\\'s absence, he orders Clemenza (Richard S. Castellano) to find Paulie and bring him to the Don\\'s house.Sollozzo abducts Tom Hagen and persuades him to offer Sonny the deal previously offered to his father. Enraged, Sonny refuses to consider it and issues an ultimatum to the Tattaglias: turn over Sollozzo or face a lengthy, bloody and costly (for both sides) gang war. They refuse, and instead send Sonny \"a Sicilian message,\" in the form of two fresh fish wrapped in Luca Brasi\\'s bullet-proof vest, to tell the Corleones that Luca Brasi \"sleeps with the fishes.\"Clemenza later takes Paulie and one of the family\\'s hitmen, Rocco Lampone, for a drive into Manhattan. Sonny wants to \"go to the mattresses\" -- set up beds in apartments for Corleone button men to operate out of in the event that the crime war breaks out. On their way back from Manhattan, Clemenza has Paulie stop the car in a remote area so he can urinate. Rocco shoots Paulie dead; he and Clemenza leave Paulie and the car behind.Michael, whom the other Mafia families consider a \"civilian\" uninvolved in mob business, visits his father at a small private hospital. He is shocked to find that no one is guarding him. Realizing that his father is again being set up to be killed, he calls Sonny for help, moves his father to another room, and goes outside to watch the entrance. Michael enlists help from Enzo the baker (Gabriele Torrei), who has come to the hospital to pay his respects. Together, they bluff away Sollozzo\\'s men as they drive by. Police cars soon appear bringing the corrupt Captain McCluskey (Sterling Hayden), who viciously punches Michael in the cheek and breaks his jaw when Michael insinuates that Sollozzo paid McCluskey to set up his father. Just then, Hagen arrives with \"private detectives\" licensed to carry guns to protect Don Corleone, and he takes the injured Michael home. Sonny responds by having Bruno Tattaglia (Tony Giorgio), the eldest son and underboss of Don Phillip Tattaglia (Victor Rendina), killed (off-camera).Following the attempt on the Don\\'s life at the hospital, Sollozzo requests a meeting with the Corleones, which Captain McCluskey will attend as Sollozzo\\'s bodyguard. When Michael volunteers to kill both men during the meeting, Sonny and the other senior Family members are amused; however, Michael convinces them that he is serious and that killing Sollozzo and McCluskey is in the family\\'s interest: \"It\\'s not personal. It\\'s strictly business.\" Because Michael is considered a civilian, he won\\'t be regarded as a suspicious ambassador for the Corleones. Although police officers are usually off limits for hits, Michael argues that since McCluskey is corrupt and has illegal dealings with Sollozzo, he is fair game. Michael also implies that newspaper reporters that the Corleones have on their payroll would delight in publishing stories about a corrupt police captain.Michael meets with Clemenza, one of his father\\'s caporegimes (captains), who prepares a small pistol for him, covering the trigger and grip with tape to prevent any fingerprint evidence. He instructs Michael about the proper way to perform the assassination and tells him to leave the gun behind. He also tells Michael that the family were all very proud of Michael for becoming a war hero during his service in the Marines. Clemenza shows great confidence that Michael can perform the job and tells him it will all go smoothly. The plan is to have the Corleone\\'s informers find out the location of the meeting and plant the revolver before Michael, Sollozzo and McCluskey arrive.Before the meeting in a small Italian restaurant, McCluskey frisks Michael for weapons and finds him clean. Michael excuses himself to go to the bathroom, where he retrieves the planted revolver. Returning to the table, he fatally shoots Sollozzo, then McCluskey. Michael is sent to hide in Sicily while the Corleone family prepares for all-out warfare with the Five Families (who are united against the Corleones) as well as a general clampdown on the mob by the police and government authorities. When the don returns home from the hospital, he is distraught to learn that it was Michael who killed Sollozzo and McCluskey.Meanwhile, Connie and Carlo\\'s marriage is disintegrating. They argue publicly over Carlo\\'s suspected infidelity and his possessive behavior toward Connie. By Italian tradition, nobody, not even a high-ranking Mafia don, can intervene in a married couple\\'s personal disputes, even if they involve infidelity, money, or domestic abuse. One day, Sonny sees a bruise on Connie\\'s face and she tells him that Carlo hit her after she asked him if he was having an affair. Sonny tracks down and severely beats up Carlo Rizzi in the middle of a crowded street for brutalizing the pregnant Connie, and threatens to kill Carlo if he ever abuses Connie again. An angry Carlo responds by plotting with Tattaglia and Don Emilio Barzini (Richard Conte), the Corleones\\' chief rivals, to have Sonny killed.Later, Carlo has one of his mistresses phone his house, knowing that Connie will answer. The woman asks Connie to tell Carlo not to meet her tonight. The very pregnant and distraught Connie assaults Carlo; he takes advantage of the altercation to beat Connie in order to lure Sonny out in the open and away from the Corleone compound. When Connie phones the compound to tell Sonny that Carlo has beaten her again, the furious Sonny drives off (alone and unescorted) to fulfill his threat against Carlo. On the way to Connie and Carlo\\'s house, Sonny is ambushed at a toll booth on the Long Island Causeway and violently shot to death by several carloads of hitmen wielding Thompson sub-machine guns.Tom Hagen relays the news of Sonny\\'s massacre to the Don, who calls in the favor from Bonasera to personally handle the embalming of Sonny\\'s body. Rather than seek revenge for Sonny\\'s killing, Don Corleone meets with the heads of the Five Families to negotiate a cease-fire. Not only is the conflict draining all their assets and threatening their survival, but ending it is the only way that Michael can return home safely. Reversing his previous decision, Vito agrees that the Corleone family will provide political protection for Tattaglia\\'s traffic in heroin, as long as it is controlled and not sold to children. At the meeting, Don Corleone deduces that Don Barzini, not Tattaglia, was ultimately behind the start of the mob war and Sonny\\'s death.In Sicily, Michael patiently waits out his exile, protected by Don Tommasino (Corrado Gaipa), an old family friend. Michael aimlessly wanders the countryside, accompanied by his ever-present bodyguards, Calo (Franco Citti) and Fabrizio (Angelo Infanti). In a small village, Michael meets and falls in love with Apollonia Vitelli (Simonetta Stefanelli), the beautiful young daughter of a bar owner. They court and marry in the traditional Sicilian fashion, but soon Michael\\'s presence becomes known to Corleone enemies. As the couple is about to be moved to a safer location, Apollonia is killed as a result of a rigged car (originally intended for Michael), exploding on ignition; Michael, who watched the car blow up, spots Fabrizio hurriedly leaving the grounds seconds before the explosion, implicating him in the assassination plot. (In a deleted scene, Fabrizio is found years later and killed.)With his safety guaranteed, Michael returns home. More than a year later, in 1950, he reunites with his former girlfriend Kay after a total of four years of separation -- three in Italy and one in America. He tells her he wants them to be married. Although Kay is hurt that he waited so long to contact her, she accepts his proposal. With Don Vito semi-retired, Sonny dead, and middle brother Fredo considered incapable of running the family business, Michael is now in charge; he promises Kay he will make the family business completely legitimate within five years.Two years later, Clemenza and Salvatore Tessio (Abe Vigoda), complain that they are being pushed around by the Barzini Family and ask permission to strike back, but Michael denies the request. He plans to move the family operations to Nevada and after that, Clemenza and Tessio may break away to form their own families. Michael further promises Connie\\'s husband, Carlo, that he will be his right hand man in Nevada (Carlo had grown up there), unaware of his part in Sonny\\'s assassination. Tom Hagen has been removed as consigliere and is now merely the family\\'s lawyer, with Vito serving as consigliere. Privately, Hagen inquires about his change in status, and also questions Michael about a new regime of \"soldiers\" secretly being built under Rocco Lampone (Tom Rosqui). Don Vito explains to Hagen that Michael is acting on his advice.Another year or so later, Michael travels to Las Vegas and meets with Moe Greene (Alex Rocco), a rich and shrewd casino boss looking to expand his business dealings. After the Don\\'s attempted assassination, Fredo had been sent to Las Vegas to learn about the casino business from Greene. Michael arrogantly offers to buy out Greene but is rudely rebuffed. Greene believes the Corleones are weak and that he can secure a better deal from Barzini. As Moe and Michael heatedly negotiate, Fredo sides with Moe. Afterward, Michael warns Fredo to never again \"take sides with anyone against the family.\"Michael returns home. In a private moment, Vito explains his expectation that the Family\\'s enemies will attempt to murder Michael by using a trusted associate to arrange a meeting as a pretext for assassination. Vito also reveals that he had never really intended a life of crime for Michael, hoping that his youngest son would hold legitimate power as a senator or governor. Some months later, Vito collapses and dies while playing with his young grandson Anthony (Anthony Gounaris) in his tomato garden. At the burial, Tessio conveys a proposal for a meeting with Barzini, which identifies Tessio as the traitor that Vito was expecting.Michael arranges for a series of murders to occur simultaneously while he is standing godfather to Connie\\'s and Carlo\\'s newborn son at the church:Don Stracci (Don Costello) is gunned down along with his bodyguard in a hotel elevator by a shotgun-wielding Clemenza.Moe Greene is killed while having a massage, shot through the eye by an unidentified assassin.Don Cuneo (Rudy Bond) is trapped in a revolving door at the St. Regis Hotel and shot dead by soldier Willi Cicci (Joe Spinell).Don Tattaglia is assassinated in his bed, along with a prostitute, by Rocco Lampone and an unknown associate.Don Barzini is killed on the steps of his office building along with his bodyguard and driver, shot by Al Neri (Richard Bright), disguised in his old police uniform.After the baptism, Tessio believes he and Hagen are on their way to the meeting between Michael and Barzini that he has arranged. Instead, he is surrounded by Willi Cicci and other button men as Hagen steps away. Realizing that Michael has uncovered his betrayal, Tessio tells Hagen that he always respected Michael, and that his disloyalty \"was only business.\" He asks if Tom can get him off for \"old times\\' sake,\" but Tom says he cannot. Tessio is driven away and never seen again (it is implied that Cicci shoots and kills Tessio with his own gun after he disarms him prior to entering the car).Meanwhile, Michael confronts Carlo about Sonny\\'s murder and forces him to admit his role in setting up the ambush, having been approached by Barzini himself. (The hitmen who killed Sonny were the core members of Barzini\\'s personal bodyguard.) Michael assures Carlo he will not be killed, but his punishment is exclusion from all family business. He hands Carlo a plane ticket to exile in Las Vegas. However, when Carlo gets into a car headed for the airport, he is immediately garroted to death by Clemenza, on Michael\\'s orders.Later, a hysterical Connie confronts Michael at the Corleone compound as movers carry away the furniture in preparation for the family move to Nevada. She accuses him of murdering Carlo in retribution for Carlo\\'s brutal treatment of her and for Carlo\\'s suspected involvement in Sonny\\'s murder. After Connie is removed from the house, Kay questions Michael about Connie\\'s accusation, but he refuses to answer, reminding her to never ask him about his business or what he does for a living. She insists, and Michael outright lies, reassuring his wife that he played no role in Carlo\\'s death. Kay believes him and is relieved. The film ends with Clemenza and new caporegimes Rocco Lampone and Al Neri arriving and paying their respects to Michael. Clemenza kisses Michael\\'s hand and greets him as \"Don Corleone.\" As Kay watches, the office door is closed.\\n\\n'"
      ]
     },
     "execution_count": 64,
     "metadata": {},
     "output_type": "execute_result"
    }
   ],
   "source": [
    "synopses[0]"
   ]
  },
  {
   "cell_type": "code",
   "execution_count": 65,
   "metadata": {},
   "outputs": [
    {
     "name": "stdout",
     "output_type": "stream",
     "text": [
      "100 titles\n",
      "100 genres\n",
      "100 synopses\n"
     ]
    }
   ],
   "source": [
    "print(str(len(titles)) + ' titles')\n",
    "print(str(len(genres)) + ' genres')\n",
    "print(str(len(synopses)) + ' synopses')"
   ]
  },
  {
   "cell_type": "code",
   "execution_count": 66,
   "metadata": {},
   "outputs": [],
   "source": [
    "# generates index for each item in the corpora (in this case it's just rank) and I'll use this for scoring later\n",
    "# the movies in the list are already ranked from 1 to 100\n",
    "ranks = []\n",
    "for i in range(1, len(titles)+1):\n",
    "    ranks.append(i)"
   ]
  },
  {
   "cell_type": "code",
   "execution_count": 67,
   "metadata": {},
   "outputs": [],
   "source": [
    "# load nltk's English stopwords as variable called 'stopwords'\n",
    "# use nltk.download() to install the corpus first\n",
    "# Stop Words are words which do not contain important significance to be used in Search Queries\n",
    "stopwords = nltk.corpus.stopwords.words('english')\n",
    "\n",
    "# load nltk's SnowballStemmer as variabled 'stemmer'\n",
    "stemmer = SnowballStemmer(\"english\")"
   ]
  },
  {
   "cell_type": "code",
   "execution_count": 68,
   "metadata": {},
   "outputs": [
    {
     "data": {
      "text/plain": [
       "179"
      ]
     },
     "execution_count": 68,
     "metadata": {},
     "output_type": "execute_result"
    }
   ],
   "source": [
    "len(stopwords)"
   ]
  },
  {
   "cell_type": "code",
   "execution_count": 69,
   "metadata": {},
   "outputs": [
    {
     "data": {
      "text/plain": [
       "['i',\n",
       " 'me',\n",
       " 'my',\n",
       " 'myself',\n",
       " 'we',\n",
       " 'our',\n",
       " 'ours',\n",
       " 'ourselves',\n",
       " 'you',\n",
       " \"you're\",\n",
       " \"you've\",\n",
       " \"you'll\",\n",
       " \"you'd\",\n",
       " 'your',\n",
       " 'yours',\n",
       " 'yourself',\n",
       " 'yourselves',\n",
       " 'he',\n",
       " 'him',\n",
       " 'his',\n",
       " 'himself',\n",
       " 'she',\n",
       " \"she's\",\n",
       " 'her',\n",
       " 'hers',\n",
       " 'herself',\n",
       " 'it',\n",
       " \"it's\",\n",
       " 'its',\n",
       " 'itself',\n",
       " 'they',\n",
       " 'them',\n",
       " 'their',\n",
       " 'theirs',\n",
       " 'themselves',\n",
       " 'what',\n",
       " 'which',\n",
       " 'who',\n",
       " 'whom',\n",
       " 'this',\n",
       " 'that',\n",
       " \"that'll\",\n",
       " 'these',\n",
       " 'those',\n",
       " 'am',\n",
       " 'is',\n",
       " 'are',\n",
       " 'was',\n",
       " 'were',\n",
       " 'be',\n",
       " 'been',\n",
       " 'being',\n",
       " 'have',\n",
       " 'has',\n",
       " 'had',\n",
       " 'having',\n",
       " 'do',\n",
       " 'does',\n",
       " 'did',\n",
       " 'doing',\n",
       " 'a',\n",
       " 'an',\n",
       " 'the',\n",
       " 'and',\n",
       " 'but',\n",
       " 'if',\n",
       " 'or',\n",
       " 'because',\n",
       " 'as',\n",
       " 'until',\n",
       " 'while',\n",
       " 'of',\n",
       " 'at',\n",
       " 'by',\n",
       " 'for',\n",
       " 'with',\n",
       " 'about',\n",
       " 'against',\n",
       " 'between',\n",
       " 'into',\n",
       " 'through',\n",
       " 'during',\n",
       " 'before',\n",
       " 'after',\n",
       " 'above',\n",
       " 'below',\n",
       " 'to',\n",
       " 'from',\n",
       " 'up',\n",
       " 'down',\n",
       " 'in',\n",
       " 'out',\n",
       " 'on',\n",
       " 'off',\n",
       " 'over',\n",
       " 'under',\n",
       " 'again',\n",
       " 'further',\n",
       " 'then',\n",
       " 'once',\n",
       " 'here',\n",
       " 'there',\n",
       " 'when',\n",
       " 'where',\n",
       " 'why',\n",
       " 'how',\n",
       " 'all',\n",
       " 'any',\n",
       " 'both',\n",
       " 'each',\n",
       " 'few',\n",
       " 'more',\n",
       " 'most',\n",
       " 'other',\n",
       " 'some',\n",
       " 'such',\n",
       " 'no',\n",
       " 'nor',\n",
       " 'not',\n",
       " 'only',\n",
       " 'own',\n",
       " 'same',\n",
       " 'so',\n",
       " 'than',\n",
       " 'too',\n",
       " 'very',\n",
       " 's',\n",
       " 't',\n",
       " 'can',\n",
       " 'will',\n",
       " 'just',\n",
       " 'don',\n",
       " \"don't\",\n",
       " 'should',\n",
       " \"should've\",\n",
       " 'now',\n",
       " 'd',\n",
       " 'll',\n",
       " 'm',\n",
       " 'o',\n",
       " 're',\n",
       " 've',\n",
       " 'y',\n",
       " 'ain',\n",
       " 'aren',\n",
       " \"aren't\",\n",
       " 'couldn',\n",
       " \"couldn't\",\n",
       " 'didn',\n",
       " \"didn't\",\n",
       " 'doesn',\n",
       " \"doesn't\",\n",
       " 'hadn',\n",
       " \"hadn't\",\n",
       " 'hasn',\n",
       " \"hasn't\",\n",
       " 'haven',\n",
       " \"haven't\",\n",
       " 'isn',\n",
       " \"isn't\",\n",
       " 'ma',\n",
       " 'mightn',\n",
       " \"mightn't\",\n",
       " 'mustn',\n",
       " \"mustn't\",\n",
       " 'needn',\n",
       " \"needn't\",\n",
       " 'shan',\n",
       " \"shan't\",\n",
       " 'shouldn',\n",
       " \"shouldn't\",\n",
       " 'wasn',\n",
       " \"wasn't\",\n",
       " 'weren',\n",
       " \"weren't\",\n",
       " 'won',\n",
       " \"won't\",\n",
       " 'wouldn',\n",
       " \"wouldn't\"]"
      ]
     },
     "execution_count": 69,
     "metadata": {},
     "output_type": "execute_result"
    }
   ],
   "source": [
    "stopwords"
   ]
  },
  {
   "cell_type": "code",
   "execution_count": 70,
   "metadata": {},
   "outputs": [],
   "source": [
    "sents = [sent for sent in nltk.sent_tokenize(\"Today (May 19, 2016) is his only daughter's wedding. Vito Corleone is the Godfather. Vito's youngest son, Michael, in a Marine Corps uniform, introduces his girlfriend, Kay Adams, to his family at the sprawling reception.\")]"
   ]
  },
  {
   "cell_type": "code",
   "execution_count": 71,
   "metadata": {},
   "outputs": [
    {
     "data": {
      "text/plain": [
       "[\"Today (May 19, 2016) is his only daughter's wedding.\",\n",
       " 'Vito Corleone is the Godfather.',\n",
       " \"Vito's youngest son, Michael, in a Marine Corps uniform, introduces his girlfriend, Kay Adams, to his family at the sprawling reception.\"]"
      ]
     },
     "execution_count": 71,
     "metadata": {},
     "output_type": "execute_result"
    }
   ],
   "source": [
    "sents"
   ]
  },
  {
   "cell_type": "code",
   "execution_count": 72,
   "metadata": {},
   "outputs": [
    {
     "data": {
      "text/plain": [
       "['Today',\n",
       " '(',\n",
       " 'May',\n",
       " '19',\n",
       " ',',\n",
       " '2016',\n",
       " ')',\n",
       " 'is',\n",
       " 'his',\n",
       " 'only',\n",
       " 'daughter',\n",
       " \"'s\",\n",
       " 'wedding',\n",
       " '.']"
      ]
     },
     "execution_count": 72,
     "metadata": {},
     "output_type": "execute_result"
    }
   ],
   "source": [
    "words = [word for word in nltk.word_tokenize(sents[0])]\n",
    "words"
   ]
  },
  {
   "cell_type": "code",
   "execution_count": 73,
   "metadata": {},
   "outputs": [
    {
     "data": {
      "text/plain": [
       "['Today', 'May', 'is', 'his', 'only', 'daughter', \"'s\", 'wedding']"
      ]
     },
     "execution_count": 73,
     "metadata": {},
     "output_type": "execute_result"
    }
   ],
   "source": [
    "# filter out any tokens not containing letters (e.g., numeric tokens, raw punctuation)\n",
    "filtered_words = []\n",
    "for word in words:\n",
    "        if re.search('[a-zA-Z]', word):\n",
    "            filtered_words.append(word)\n",
    "filtered_words"
   ]
  },
  {
   "cell_type": "code",
   "execution_count": 74,
   "metadata": {},
   "outputs": [
    {
     "data": {
      "text/plain": [
       "['today', 'may', 'is', 'his', 'onli', 'daughter', \"'s\", 'wed']"
      ]
     },
     "execution_count": 74,
     "metadata": {},
     "output_type": "execute_result"
    }
   ],
   "source": [
    "# see how \"only\" is stemmed to \"onli\" and \"wedding\" is stemmed to \"wed\"\n",
    "stems = [stemmer.stem(t) for t in filtered_words]\n",
    "stems"
   ]
  },
  {
   "cell_type": "code",
   "execution_count": 75,
   "metadata": {},
   "outputs": [],
   "source": [
    "# here I define a tokenizer and stemmer which returns the set of stems in the text that it is passed\n",
    "# Punkt Sentence Tokenizer, sent means sentence \n",
    "def tokenize_and_stem(text):\n",
    "    # first tokenize by sentence, then by word to ensure that punctuation is caught as it's own token\n",
    "    tokens = [word for sent in nltk.sent_tokenize(text) for word in nltk.word_tokenize(sent)]\n",
    "    filtered_tokens = []\n",
    "    # filter out any tokens not containing letters (e.g., numeric tokens, raw punctuation)\n",
    "    for token in tokens:\n",
    "        if re.search('[a-zA-Z]', token):\n",
    "            filtered_tokens.append(token)\n",
    "    stems = [stemmer.stem(t) for t in filtered_tokens]\n",
    "    return stems"
   ]
  },
  {
   "cell_type": "code",
   "execution_count": 76,
   "metadata": {},
   "outputs": [],
   "source": [
    "\n",
    "def tokenize_only(text):\n",
    "    # first tokenize by sentence, then by word to ensure that punctuation is caught as it's own token\n",
    "    tokens = [word.lower() for sent in nltk.sent_tokenize(text) for word in nltk.word_tokenize(sent)]\n",
    "    filtered_tokens = []\n",
    "    # filter out any tokens not containing letters (e.g., numeric tokens, raw punctuation)\n",
    "    for token in tokens:\n",
    "        if re.search('[a-zA-Z]', token):\n",
    "            filtered_tokens.append(token)\n",
    "    return filtered_tokens"
   ]
  },
  {
   "cell_type": "code",
   "execution_count": 77,
   "metadata": {},
   "outputs": [
    {
     "name": "stdout",
     "output_type": "stream",
     "text": [
      "['today', 'may', 'is', 'his', 'onli', 'daughter', \"'s\", 'wed']\n"
     ]
    }
   ],
   "source": [
    "words_stemmed = tokenize_and_stem(\"Today (May 19, 2016) is his only daughter's wedding.\")\n",
    "print(words_stemmed)"
   ]
  },
  {
   "cell_type": "code",
   "execution_count": 78,
   "metadata": {},
   "outputs": [
    {
     "data": {
      "text/plain": [
       "['today', 'may', 'is', 'his', 'only', 'daughter', \"'s\", 'wedding']"
      ]
     },
     "execution_count": 78,
     "metadata": {},
     "output_type": "execute_result"
    }
   ],
   "source": [
    "words_only = tokenize_only(\"Today (May 19, 2016) is his only daughter's wedding.\")\n",
    "words_only"
   ]
  },
  {
   "cell_type": "markdown",
   "metadata": {},
   "source": [
    "Below I use my stemming/tokenizing and tokenizing functions to iterate over the list of synopses to create two vocabularies: one stemmed and one only tokenized"
   ]
  },
  {
   "cell_type": "code",
   "execution_count": 79,
   "metadata": {},
   "outputs": [
    {
     "name": "stdout",
     "output_type": "stream",
     "text": [
      "[3, 4, [1, 2]]\n",
      "[5, 6, 1, 2]\n"
     ]
    }
   ],
   "source": [
    "# extend vs. append\n",
    "a = [1, 2]\n",
    "b = [3, 4]\n",
    "c = [5, 6]\n",
    "b.append(a)\n",
    "c.extend(a)\n",
    "print(b)\n",
    "print(c)"
   ]
  },
  {
   "cell_type": "code",
   "execution_count": 80,
   "metadata": {},
   "outputs": [],
   "source": [
    "totalvocab_stemmed = []\n",
    "totalvocab_tokenized = []\n",
    "for i in synopses:\n",
    "    allwords_stemmed = tokenize_and_stem(i) # for each item in 'synopses', tokenize/stem\n",
    "    totalvocab_stemmed.extend(allwords_stemmed) # extend the 'totalvocab_stemmed' list\n",
    "    \n",
    "    allwords_tokenized = tokenize_only(i)\n",
    "    totalvocab_tokenized.extend(allwords_tokenized)"
   ]
  },
  {
   "cell_type": "code",
   "execution_count": 81,
   "metadata": {},
   "outputs": [
    {
     "name": "stdout",
     "output_type": "stream",
     "text": [
      "312301\n",
      "312301\n"
     ]
    }
   ],
   "source": [
    "print(len(totalvocab_stemmed))\n",
    "print(len(totalvocab_tokenized))"
   ]
  },
  {
   "cell_type": "code",
   "execution_count": 82,
   "metadata": {},
   "outputs": [
    {
     "name": "stdout",
     "output_type": "stream",
     "text": [
      "there are 312301 items in vocab_frame\n",
      "     words\n",
      "plot  plot\n",
      "edit  edit\n",
      "edit  edit\n",
      "edit  edit\n",
      "on      on\n"
     ]
    }
   ],
   "source": [
    "vocab_frame = pd.DataFrame({'words': totalvocab_tokenized}, index = totalvocab_stemmed)\n",
    "print('there are ' + str(vocab_frame.shape[0]) + ' items in vocab_frame')\n",
    "print(vocab_frame.head())"
   ]
  },
  {
   "cell_type": "code",
   "execution_count": 83,
   "metadata": {},
   "outputs": [
    {
     "name": "stdout",
     "output_type": "stream",
     "text": [
      "there are 8 items in words_frame\n",
      "              WORD\n",
      "today        today\n",
      "may            may\n",
      "is              is\n",
      "his            his\n",
      "onli          only\n",
      "daughter  daughter\n",
      "'s              's\n",
      "wed        wedding\n"
     ]
    }
   ],
   "source": [
    "words_frame = pd.DataFrame({'WORD': words_only}, index = words_stemmed)\n",
    "print('there are ' + str(words_frame.shape[0]) + ' items in words_frame')\n",
    "print(words_frame)"
   ]
  },
  {
   "cell_type": "markdown",
   "metadata": {},
   "source": [
    "Generate TF-IDF matrix (see http://scikit-learn.org/stable/modules/generated/sklearn.feature_extraction.text.TfidfVectorizer.html)\n",
    "\n",
    "max_df: this is the maximum frequency within the documents a given feature can have to be used in the tfi-idf matrix. If the term is in greater than 80% of the documents it probably cares little meanining (in the context of film synopses)\n",
    "\n",
    "min_idf: this could be an integer (e.g. 5) and the term would have to be in at least 5 of the documents to be considered. Here I pass 0.2; the term must be in at least 20% of the document. I found that if I allowed a lower min_df I ended up basing clustering on names--for example \"Michael\" or \"Tom\" are names found in several of the movies and the synopses use these names frequently, but the names carry no real meaning.\n",
    "\n",
    "ngram_range: this just means I'll look at unigrams, bigrams and trigrams"
   ]
  },
  {
   "cell_type": "code",
   "execution_count": 84,
   "metadata": {
    "scrolled": true
   },
   "outputs": [
    {
     "name": "stdout",
     "output_type": "stream",
     "text": [
      "CPU times: user 13 s, sys: 24.4 ms, total: 13 s\n",
      "Wall time: 13 s\n",
      "(100, 563)\n"
     ]
    },
    {
     "data": {
      "text/plain": [
       "563"
      ]
     },
     "execution_count": 84,
     "metadata": {},
     "output_type": "execute_result"
    }
   ],
   "source": [
    "# Note that the result of this block takes a while to show\n",
    "from sklearn.feature_extraction.text import TfidfVectorizer\n",
    "\n",
    "#define vectorizer parameters\n",
    "tfidf_vectorizer = TfidfVectorizer(max_df=0.8, max_features=200000,\n",
    "                                 min_df=0.2, stop_words='english',\n",
    "                                 use_idf=True, tokenizer=tokenize_and_stem, ngram_range=(1,3))\n",
    "\n",
    "%time tfidf_matrix = tfidf_vectorizer.fit_transform(synopses) #fit the vectorizer to synopses\n",
    "\n",
    "# (100, 563) means the matrix has 100 rows and 563 columns\n",
    "print(tfidf_matrix.shape)\n",
    "terms = tfidf_vectorizer.get_feature_names()\n",
    "len(terms)"
   ]
  },
  {
   "cell_type": "code",
   "execution_count": 85,
   "metadata": {
    "scrolled": true
   },
   "outputs": [
    {
     "name": "stdout",
     "output_type": "stream",
     "text": [
      "CPU times: user 7.58 ms, sys: 0 ns, total: 7.58 ms\n",
      "Wall time: 7.23 ms\n",
      "(3, 58)\n",
      "  (0, 43)\t0.2938838601653297\n",
      "  (0, 34)\t0.2938838601653297\n",
      "  (0, 12)\t0.2938838601653297\n",
      "  (0, 0)\t0.2235062506454222\n",
      "  (0, 54)\t0.2938838601653297\n",
      "  (0, 44)\t0.2938838601653297\n",
      "  (0, 35)\t0.2938838601653297\n",
      "  (0, 13)\t0.2938838601653297\n",
      "  (0, 1)\t0.2938838601653297\n",
      "  (0, 45)\t0.2938838601653297\n",
      "  (0, 36)\t0.2938838601653297\n",
      "  (0, 14)\t0.2938838601653297\n",
      "  (1, 49)\t0.3220024178194947\n",
      "  (1, 7)\t0.4233944834119594\n",
      "  (1, 21)\t0.4233944834119594\n",
      "  (1, 52)\t0.4233944834119594\n",
      "  (1, 8)\t0.4233944834119594\n",
      "  (1, 53)\t0.4233944834119594\n",
      "  (2, 0)\t0.11854770291978327\n",
      "  (2, 49)\t0.11854770291978327\n",
      "  (2, 55)\t0.15587598309753223\n",
      "  (2, 38)\t0.15587598309753223\n",
      "  (2, 31)\t0.15587598309753223\n",
      "  (2, 28)\t0.15587598309753223\n",
      "  (2, 9)\t0.15587598309753223\n",
      "  :\t:\n",
      "  (2, 56)\t0.15587598309753223\n",
      "  (2, 39)\t0.15587598309753223\n",
      "  (2, 32)\t0.15587598309753223\n",
      "  (2, 29)\t0.15587598309753223\n",
      "  (2, 10)\t0.15587598309753223\n",
      "  (2, 47)\t0.15587598309753223\n",
      "  (2, 23)\t0.15587598309753223\n",
      "  (2, 19)\t0.15587598309753223\n",
      "  (2, 26)\t0.15587598309753223\n",
      "  (2, 5)\t0.15587598309753223\n",
      "  (2, 16)\t0.15587598309753223\n",
      "  (2, 42)\t0.15587598309753223\n",
      "  (2, 51)\t0.15587598309753223\n",
      "  (2, 3)\t0.15587598309753223\n",
      "  (2, 57)\t0.15587598309753223\n",
      "  (2, 40)\t0.15587598309753223\n",
      "  (2, 33)\t0.15587598309753223\n",
      "  (2, 30)\t0.15587598309753223\n",
      "  (2, 11)\t0.15587598309753223\n",
      "  (2, 48)\t0.15587598309753223\n",
      "  (2, 24)\t0.15587598309753223\n",
      "  (2, 20)\t0.15587598309753223\n",
      "  (2, 27)\t0.15587598309753223\n",
      "  (2, 6)\t0.15587598309753223\n",
      "  (2, 17)\t0.15587598309753223\n",
      "['today', 'onli', 'daughter', \"'s\", 'wed', 'today onli', 'onli daughter', \"daughter 's\", \"'s wed\", 'today onli daughter', \"onli daughter 's\", \"daughter 's wed\"]\n",
      "['vito', 'corleon', 'godfath', 'vito corleon', 'corleon godfath', 'vito corleon godfath']\n",
      "['vito', \"'s\", 'youngest', 'son', 'michael', 'marin', 'corp', 'uniform', 'introduc', 'girlfriend', 'kay', 'adam', 'famili', 'sprawl', 'recept', \"vito 's\", \"'s youngest\", 'youngest son', 'son michael', 'michael marin', 'marin corp', 'corp uniform', 'uniform introduc', 'introduc girlfriend', 'girlfriend kay', 'kay adam', 'adam famili', 'famili sprawl', 'sprawl recept', \"vito 's youngest\", \"'s youngest son\", 'youngest son michael', 'son michael marin', 'michael marin corp', 'marin corp uniform', 'corp uniform introduc', 'uniform introduc girlfriend', 'introduc girlfriend kay', 'girlfriend kay adam', 'kay adam famili', 'adam famili sprawl', 'famili sprawl recept']\n",
      "[\"'s\", \"'s wed\", \"'s youngest\", \"'s youngest son\", 'adam', 'adam famili', 'adam famili sprawl', 'corleon', 'corleon godfath', 'corp', 'corp uniform', 'corp uniform introduc', 'daughter', \"daughter 's\", \"daughter 's wed\", 'famili', 'famili sprawl', 'famili sprawl recept', 'girlfriend', 'girlfriend kay', 'girlfriend kay adam', 'godfath', 'introduc', 'introduc girlfriend', 'introduc girlfriend kay', 'kay', 'kay adam', 'kay adam famili', 'marin', 'marin corp', 'marin corp uniform', 'michael', 'michael marin', 'michael marin corp', 'onli', 'onli daughter', \"onli daughter 's\", 'recept', 'son', 'son michael', 'son michael marin', 'sprawl', 'sprawl recept', 'today', 'today onli', 'today onli daughter', 'uniform', 'uniform introduc', 'uniform introduc girlfriend', 'vito', \"vito 's\", \"vito 's youngest\", 'vito corleon', 'vito corleon godfath', 'wed', 'youngest', 'youngest son', 'youngest son michael']\n",
      "58\n"
     ]
    },
    {
     "data": {
      "text/plain": [
       "array([[1.        , 0.        , 0.02649615],\n",
       "       [0.        , 1.        , 0.03817265],\n",
       "       [0.02649615, 0.03817265, 1.        ]])"
      ]
     },
     "execution_count": 85,
     "metadata": {},
     "output_type": "execute_result"
    }
   ],
   "source": [
    "from sklearn.metrics.pairwise import cosine_similarity\n",
    "# A short example using the sentences above\n",
    "words_vectorizer = TfidfVectorizer(max_df=0.8, max_features=200000,\n",
    "                                 min_df=0.2, stop_words='english',\n",
    "                                 use_idf=True, tokenizer=tokenize_and_stem, ngram_range=(1,3))\n",
    "\n",
    "%time words_matrix = words_vectorizer.fit_transform(sents) #fit the vectorizer to synopses\n",
    "\n",
    "# (2, 18) means the matrix has 2 rows (two sentences) and 18 columns (18 terms)\n",
    "print(words_matrix.shape)\n",
    "print(words_matrix)\n",
    "\n",
    "# this is how we get the 18 terms\n",
    "analyze = words_vectorizer.build_analyzer()\n",
    "print(analyze(\"Today (May 19, 2016) is his only daughter's wedding.\"))\n",
    "print(analyze(\"Vito Corleone is the Godfather.\"))\n",
    "print(analyze(\"Vito's youngest son, Michael, in a Marine Corps uniform, introduces his girlfriend, Kay Adams, to his family at the sprawling reception.\"))\n",
    "all_terms = words_vectorizer.get_feature_names()\n",
    "print(all_terms)\n",
    "print(len(all_terms))\n",
    "\n",
    "# sent 1 and 2, similarity 0, sent 1 and 3 shares \"his\", sent 2 and 3 shares Vito - try to change Vito's in sent3 to His and see the similary matrix changes\n",
    "example_similarity = cosine_similarity(words_matrix)\n",
    "example_similarity"
   ]
  },
  {
   "cell_type": "markdown",
   "metadata": {},
   "source": [
    "Now onto the fun part. Using the tf-idf matrix, you can run a slew of clustering algorithms to better understand the hidden structure within the synopses. I first chose k-means. K-means initializes with a pre-determined number of clusters (I chose 5). Each observation is assigned to a cluster (cluster assignment) so as to minimize the within cluster sum of squares. Next, the mean of the clustered observations is calculated and used as the new cluster centroid. Then, observations are reassigned to clusters and centroids recalculated in an iterative process until the algorithm reaches convergence.\n",
    "\n",
    "I found it took several runs for the algorithm to converge a global optimum as k-means is susceptible to reaching local optima - how to decide that the algorithm converged???"
   ]
  },
  {
   "cell_type": "code",
   "execution_count": 86,
   "metadata": {},
   "outputs": [
    {
     "name": "stdout",
     "output_type": "stream",
     "text": [
      "CPU times: user 754 ms, sys: 12 ms, total: 766 ms\n",
      "Wall time: 774 ms\n"
     ]
    }
   ],
   "source": [
    "from sklearn.cluster import KMeans\n",
    "\n",
    "num_clusters = 5\n",
    "\n",
    "km = KMeans(n_clusters=num_clusters)\n",
    "\n",
    "%time km.fit(tfidf_matrix)\n",
    "\n",
    "clusters = km.labels_.tolist()"
   ]
  },
  {
   "cell_type": "markdown",
   "metadata": {},
   "source": [
    "I use joblib.dump to pickle the model, once it has converged and to reload the model/reassign the labels as the clusters."
   ]
  },
  {
   "cell_type": "code",
   "execution_count": 87,
   "metadata": {},
   "outputs": [
    {
     "name": "stdout",
     "output_type": "stream",
     "text": [
      "100\n",
      "[0, 1, 1, 3, 1, 1, 1, 2, 1, 4, 1, 2, 3, 3, 3, 3, 2, 0, 3, 4, 3, 4, 1, 3, 1, 3, 2, 3, 3, 1, 2, 1, 0, 1, 1, 1, 1, 3, 1, 3, 0, 0, 3, 0, 0, 2, 0, 0, 1, 4, 1, 1, 3, 1, 2, 1, 1, 1, 1, 0, 4, 1, 1, 3, 0, 2, 2, 2, 2, 0, 3, 2, 0, 3, 0, 2, 3, 0, 0, 3, 3, 4, 3, 3, 3, 3, 3, 1, 1, 4, 3, 3, 3, 0, 3, 3, 3, 3, 3, 0]\n"
     ]
    }
   ],
   "source": [
    "from sklearn.externals import joblib\n",
    "\n",
    "#uncomment the below to save your model \n",
    "#since I've already run my model I am loading from the pickle\n",
    "\n",
    "joblib.dump(km,  'doc_cluster.pkl')\n",
    "\n",
    "km = joblib.load('doc_cluster.pkl')\n",
    "clusters = km.labels_.tolist()\n",
    "# clusters show which cluster (0-4) each of the 100 synoposes belongs to\n",
    "print(len(clusters))\n",
    "print(clusters)"
   ]
  },
  {
   "cell_type": "markdown",
   "metadata": {},
   "source": [
    "Here, I create a dictionary of titles, ranks, the synopsis, the cluster assignment, and the genre [rank and genre were scraped from IMDB].\n",
    "I convert this dictionary to a Pandas DataFrame for easy access. I'm a huge fan of Pandas and recommend taking a look at some of its awesome functionality which I'll use below, but not describe in a ton of detail."
   ]
  },
  {
   "cell_type": "code",
   "execution_count": 88,
   "metadata": {},
   "outputs": [
    {
     "name": "stdout",
     "output_type": "stream",
     "text": [
      "    rank                                              title  cluster  \\\n",
      "0      1                                      The Godfather        0   \n",
      "1      2                           The Shawshank Redemption        1   \n",
      "1      3                                   Schindler's List        1   \n",
      "3      4                                        Raging Bull        3   \n",
      "1      5                                         Casablanca        1   \n",
      "1      6                    One Flew Over the Cuckoo's Nest        1   \n",
      "1      7                                 Gone with the Wind        1   \n",
      "2      8                                       Citizen Kane        2   \n",
      "1      9                                   The Wizard of Oz        1   \n",
      "4     10                                            Titanic        4   \n",
      "1     11                                 Lawrence of Arabia        1   \n",
      "2     12                             The Godfather: Part II        2   \n",
      "3     13                                             Psycho        3   \n",
      "3     14                                       Sunset Blvd.        3   \n",
      "3     15                                            Vertigo        3   \n",
      "3     16                                  On the Waterfront        3   \n",
      "2     17                                       Forrest Gump        2   \n",
      "0     18                                 The Sound of Music        0   \n",
      "3     19                                    West Side Story        3   \n",
      "4     20                                          Star Wars        4   \n",
      "3     21                         E.T. the Extra-Terrestrial        3   \n",
      "4     22                              2001: A Space Odyssey        4   \n",
      "1     23                           The Silence of the Lambs        1   \n",
      "3     24                                          Chinatown        3   \n",
      "1     25                       The Bridge on the River Kwai        1   \n",
      "3     26                                Singin' in the Rain        3   \n",
      "2     27                              It's a Wonderful Life        2   \n",
      "3     28                                   Some Like It Hot        3   \n",
      "3     29                                       12 Angry Men        3   \n",
      "1     30  Dr. Strangelove or: How I Learned to Stop Worr...        1   \n",
      "..   ...                                                ...      ...   \n",
      "3     71                                           Rain Man        3   \n",
      "2     72                                         Annie Hall        2   \n",
      "0     73                                      Out of Africa        0   \n",
      "3     74                                  Good Will Hunting        3   \n",
      "0     75                                Terms of Endearment        0   \n",
      "2     76                                            Tootsie        2   \n",
      "3     77                                              Fargo        3   \n",
      "0     78                                              Giant        0   \n",
      "0     79                                The Grapes of Wrath        0   \n",
      "3     80                                              Shane        3   \n",
      "3     81                                     The Green Mile        3   \n",
      "4     82                 Close Encounters of the Third Kind        4   \n",
      "3     83                                            Network        3   \n",
      "3     84                                          Nashville        3   \n",
      "3     85                                       The Graduate        3   \n",
      "3     86                                  American Graffiti        3   \n",
      "3     87                                       Pulp Fiction        3   \n",
      "1     88                                  The African Queen        1   \n",
      "1     89                                         Stagecoach        1   \n",
      "4     90                               Mutiny on the Bounty        4   \n",
      "3     91                                 The Maltese Falcon        3   \n",
      "3     92                                 A Clockwork Orange        3   \n",
      "3     93                                        Taxi Driver        3   \n",
      "0     94                                  Wuthering Heights        0   \n",
      "3     95                                   Double Indemnity        3   \n",
      "3     96                              Rebel Without a Cause        3   \n",
      "3     97                                        Rear Window        3   \n",
      "3     98                                      The Third Man        3   \n",
      "3     99                                 North by Northwest        3   \n",
      "0    100                                Yankee Doodle Dandy        0   \n",
      "\n",
      "                                                genre  \n",
      "0                              [u' Crime', u' Drama']  \n",
      "1                              [u' Crime', u' Drama']  \n",
      "1             [u' Biography', u' Drama', u' History']  \n",
      "3               [u' Biography', u' Drama', u' Sport']  \n",
      "1                   [u' Drama', u' Romance', u' War']  \n",
      "1                                         [u' Drama']  \n",
      "1                   [u' Drama', u' Romance', u' War']  \n",
      "2                            [u' Drama', u' Mystery']  \n",
      "1   [u' Adventure', u' Family', u' Fantasy', u' Mu...  \n",
      "4                            [u' Drama', u' Romance']  \n",
      "1   [u' Adventure', u' Biography', u' Drama', u' H...  \n",
      "2                              [u' Crime', u' Drama']  \n",
      "3             [u' Horror', u' Mystery', u' Thriller']  \n",
      "3                          [u' Drama', u' Film-Noir']  \n",
      "3            [u' Mystery', u' Romance', u' Thriller']  \n",
      "3                              [u' Crime', u' Drama']  \n",
      "2                            [u' Drama', u' Romance']  \n",
      "0   [u' Biography', u' Drama', u' Family', u' Musi...  \n",
      "3   [u' Crime', u' Drama', u' Musical', u' Romance...  \n",
      "4   [u' Action', u' Adventure', u' Fantasy', u' Sc...  \n",
      "3             [u' Adventure', u' Family', u' Sci-Fi']  \n",
      "4                           [u' Mystery', u' Sci-Fi']  \n",
      "1                [u' Crime', u' Drama', u' Thriller']  \n",
      "3              [u' Drama', u' Mystery', u' Thriller']  \n",
      "1                 [u' Adventure', u' Drama', u' War']  \n",
      "3              [u' Comedy', u' Musical', u' Romance']  \n",
      "2                [u' Drama', u' Family', u' Fantasy']  \n",
      "3                                        [u' Comedy']  \n",
      "3                                         [u' Drama']  \n",
      "1                               [u' Comedy', u' War']  \n",
      "..                                                ...  \n",
      "3                                         [u' Drama']  \n",
      "2                [u' Comedy', u' Drama', u' Romance']  \n",
      "0             [u' Biography', u' Drama', u' Romance']  \n",
      "3                                         [u' Drama']  \n",
      "0                             [u' Comedy', u' Drama']  \n",
      "2                [u' Comedy', u' Drama', u' Romance']  \n",
      "3                [u' Crime', u' Drama', u' Thriller']  \n",
      "0                            [u' Drama', u' Romance']  \n",
      "0                                         [u' Drama']  \n",
      "3               [u' Drama', u' Romance', u' Western']  \n",
      "3    [u' Crime', u' Drama', u' Fantasy', u' Mystery']  \n",
      "4                             [u' Drama', u' Sci-Fi']  \n",
      "3                                         [u' Drama']  \n",
      "3                              [u' Drama', u' Music']  \n",
      "3                [u' Comedy', u' Drama', u' Romance']  \n",
      "3                             [u' Comedy', u' Drama']  \n",
      "3                [u' Crime', u' Drama', u' Thriller']  \n",
      "1               [u' Adventure', u' Romance', u' War']  \n",
      "1                        [u' Adventure', u' Western']  \n",
      "4             [u' Adventure', u' Drama', u' History']  \n",
      "3             [u' Drama', u' Film-Noir', u' Mystery']  \n",
      "3                  [u' Crime', u' Drama', u' Sci-Fi']  \n",
      "3                              [u' Crime', u' Drama']  \n",
      "0                            [u' Drama', u' Romance']  \n",
      "3   [u' Crime', u' Drama', u' Film-Noir', u' Thril...  \n",
      "3                                         [u' Drama']  \n",
      "3                         [u' Mystery', u' Thriller']  \n",
      "3          [u' Film-Noir', u' Mystery', u' Thriller']  \n",
      "3                         [u' Mystery', u' Thriller']  \n",
      "0             [u' Biography', u' Drama', u' Musical']  \n",
      "\n",
      "[100 rows x 4 columns]\n"
     ]
    },
    {
     "data": {
      "text/plain": [
       "3    34\n",
       "1    28\n",
       "0    18\n",
       "2    13\n",
       "4     7\n",
       "Name: cluster, dtype: int64"
      ]
     },
     "execution_count": 88,
     "metadata": {},
     "output_type": "execute_result"
    }
   ],
   "source": [
    "films = { 'title': titles, 'rank': ranks, 'synopsis': synopses, 'cluster': clusters, 'genre': genres }\n",
    "\n",
    "frame = pd.DataFrame(films, index = [clusters] , columns = ['rank', 'title', 'cluster', 'genre'])\n",
    "\n",
    "print(frame) # here the ranking is still 0 to 99\n",
    "\n",
    "frame['cluster'].value_counts() #number of films per cluster (clusters from 0 to 4)\n"
   ]
  },
  {
   "cell_type": "code",
   "execution_count": 89,
   "metadata": {},
   "outputs": [
    {
     "data": {
      "text/plain": [
       "cluster\n",
       "0    56.277778\n",
       "1    38.285714\n",
       "2    47.230769\n",
       "3    59.294118\n",
       "4    47.857143\n",
       "Name: rank, dtype: float64"
      ]
     },
     "execution_count": 89,
     "metadata": {},
     "output_type": "execute_result"
    }
   ],
   "source": [
    "grouped = frame['rank'].groupby(frame['cluster']) # groupby cluster for aggregation purposes\n",
    "\n",
    "grouped.mean() # average rank (1 to 100) per cluster"
   ]
  },
  {
   "cell_type": "markdown",
   "metadata": {},
   "source": [
    "Note that clusters 4 and 0 have the lowest rank, which indicates that they, on average, contain films that were ranked as \"better\" on the top 100 list.\n",
    "Here is some fancy indexing and sorting on each cluster to identify which are the top n (I chose n=6) words that are nearest to the cluster centroid. This gives a good sense of the main topic of the cluster."
   ]
  },
  {
   "cell_type": "code",
   "execution_count": 43,
   "metadata": {
    "scrolled": true
   },
   "outputs": [
    {
     "name": "stdout",
     "output_type": "stream",
     "text": [
      "Top terms per cluster:\n",
      "Cluster 0 words: b'family', b'father', b'home', b'love', b'friends', b'war',\n",
      "\n",
      "Cluster 0 titles: The Godfather, The Shawshank Redemption, Schindler's List, Raging Bull, Casablanca, Gone with the Wind, Citizen Kane, The Wizard of Oz, The Godfather: Part II, On the Waterfront, Forrest Gump, The Sound of Music, West Side Story, E.T. the Extra-Terrestrial, 2001: A Space Odyssey, Singin' in the Rain, Some Like It Hot, 12 Angry Men, Amadeus, Gandhi, The Lord of the Rings: The Return of the King, Unforgiven, Rocky, A Streetcar Named Desire, To Kill a Mockingbird, An American in Paris, The Best Years of Our Lives, My Fair Lady, Ben-Hur, Doctor Zhivago, Braveheart, The Pianist, The Exorcist, City Lights, Midnight Cowboy, Mr. Smith Goes to Washington, Annie Hall, Out of Africa, Good Will Hunting, Terms of Endearment, Giant, The Grapes of Wrath, Shane, The Green Mile, Nashville, The Graduate, The African Queen, A Clockwork Orange, Wuthering Heights, Yankee Doodle Dandy,\n",
      "\n",
      "Cluster 1 words: b'car', b'police', b'apartments', b'killed', b'driving', b'train',\n",
      "\n",
      "Cluster 1 titles: Titanic, Psycho, Sunset Blvd., Vertigo, The Silence of the Lambs, Chinatown, The Good, the Bad and the Ugly, Butch Cassidy and the Sundance Kid, The Apartment, High Noon, Goodfellas, The French Connection, It Happened One Night, Rain Man, Fargo, Close Encounters of the Third Kind, American Graffiti, Pulp Fiction, The Maltese Falcon, Taxi Driver, Double Indemnity, Rebel Without a Cause, Rear Window, The Third Man, North by Northwest,\n",
      "\n",
      "Cluster 2 words: b'george'"
     ]
    },
    {
     "name": "stderr",
     "output_type": "stream",
     "text": [
      "/home/xprilion/anaconda3/lib/python3.7/site-packages/ipykernel_launcher.py:12: DeprecationWarning: \n",
      ".ix is deprecated. Please use\n",
      ".loc for label based indexing or\n",
      ".iloc for positional indexing\n",
      "\n",
      "See the documentation here:\n",
      "http://pandas.pydata.org/pandas-docs/stable/indexing.html#ix-indexer-is-deprecated\n",
      "  if sys.path[0] == '':\n",
      "/home/xprilion/anaconda3/lib/python3.7/site-packages/ipykernel_launcher.py:17: DeprecationWarning: \n",
      ".ix is deprecated. Please use\n",
      ".loc for label based indexing or\n",
      ".iloc for positional indexing\n",
      "\n",
      "See the documentation here:\n",
      "http://pandas.pydata.org/pandas-docs/stable/indexing.html#ix-indexer-is-deprecated\n"
     ]
    },
    {
     "name": "stdout",
     "output_type": "stream",
     "text": [
      ", b'marries', b'family', b'john', b'james', b'playing',\n",
      "\n",
      "Cluster 2 titles: It's a Wonderful Life, The Philadelphia Story, The King's Speech, A Place in the Sun, Tootsie,\n",
      "\n",
      "Cluster 3 words: b'general', b'command', b'army', b'forces', b'orders', b'killed',\n",
      "\n",
      "Cluster 3 titles: Lawrence of Arabia, Star Wars, Dr. Strangelove or: How I Learned to Stop Worrying and Love the Bomb, Apocalypse Now, Gladiator, Patton, Network, Mutiny on the Bounty,\n",
      "\n",
      "Cluster 4 words: b'soldiers', b'killed', b'army', b'men', b'wounded', b'group',\n",
      "\n",
      "Cluster 4 titles: One Flew Over the Cuckoo's Nest, The Bridge on the River Kwai, From Here to Eternity, Saving Private Ryan, Raiders of the Lost Ark, Jaws, The Treasure of the Sierra Madre, Platoon, Dances with Wolves, The Deer Hunter, All Quiet on the Western Front, Stagecoach,\n",
      "\n"
     ]
    }
   ],
   "source": [
    "from __future__ import print_function\n",
    "\n",
    "print(\"Top terms per cluster:\")\n",
    "\n",
    "#sort cluster centers by proximity to centroid\n",
    "order_centroids = km.cluster_centers_.argsort()[:, ::-1] \n",
    "\n",
    "for i in range(num_clusters):\n",
    "    print(\"Cluster %d words:\" % i, end='')\n",
    "    \n",
    "    for ind in order_centroids[i, :6]: #replace 6 with n words per cluster\n",
    "        print(' %s' % vocab_frame.ix[terms[ind].split(' ')].values.tolist()[0][0].encode('utf-8', 'ignore'), end=',')\n",
    "    print() #add whitespace\n",
    "    print() #add whitespace\n",
    "    \n",
    "    print(\"Cluster %d titles:\" % i, end='')\n",
    "    for title in frame.ix[i]['title'].values.tolist():\n",
    "        print(' %s,' % title, end='')\n",
    "    print() #add whitespace\n",
    "    print() #add whitespace\n"
   ]
  },
  {
   "cell_type": "markdown",
   "metadata": {
    "collapsed": true
   },
   "source": [
    "Cosine similarity is measured against the tf-idf matrix and can be used to generate a measure of similarity between each document and the other documents in the corpus (each synopsis among the synopses). cosine similarity 1 means the same document, 0 means totally different ones. dist is defined as 1 - the cosine similarity of each document.  Subtracting it from 1 provides cosine distance which I will use for plotting on a euclidean (2-dimensional) plane.\n",
    "Note that with dist it is possible to evaluate the similarity of any two or more synopses."
   ]
  },
  {
   "cell_type": "code",
   "execution_count": 44,
   "metadata": {},
   "outputs": [
    {
     "name": "stdout",
     "output_type": "stream",
     "text": [
      "<class 'numpy.ndarray'>\n",
      "(100, 100)\n"
     ]
    }
   ],
   "source": [
    "\n",
    "similarity_distance = 1 - cosine_similarity(tfidf_matrix)\n",
    "print(type(similarity_distance))\n",
    "print(similarity_distance.shape)"
   ]
  },
  {
   "cell_type": "markdown",
   "metadata": {
    "collapsed": true
   },
   "source": [
    "Multidimensional scaling\n",
    "Here is some code to convert the dist matrix into a 2-dimensional array using multidimensional scaling. I won't pretend I know a ton about MDS, but it was useful for this purpose. Another option would be to use principal component analysis."
   ]
  },
  {
   "cell_type": "code",
   "execution_count": 45,
   "metadata": {},
   "outputs": [
    {
     "name": "stdout",
     "output_type": "stream",
     "text": [
      "CPU times: user 1.35 s, sys: 51.6 ms, total: 1.41 s\n",
      "Wall time: 918 ms\n",
      "(100, 2)\n",
      "[[ 0.18427284 -0.01171561]\n",
      " [ 0.44206412 -0.27869805]\n",
      " [-0.03159215 -0.45663791]\n",
      " [-0.13227196  0.57453848]\n",
      " [-0.25873684 -0.26527517]\n",
      " [ 0.05822957  0.25692953]\n",
      " [ 0.05839902 -0.04612822]\n",
      " [ 0.01170734  0.46244858]\n",
      " [-0.43458221 -0.29655933]\n",
      " [ 0.60374328 -0.34569913]\n",
      " [-0.25090779 -0.57483017]\n",
      " [ 0.0716498   0.13140843]\n",
      " [-0.22775176  0.06867225]\n",
      " [-0.43012185  0.28528616]\n",
      " [-0.35275605  0.12706104]\n",
      " [-0.05321665  0.12337032]\n",
      " [ 0.35480636  0.00823039]\n",
      " [ 0.5523204   0.49066955]\n",
      " [-0.48429635  0.17299124]\n",
      " [ 0.19843842 -0.38929168]\n",
      " [-0.0217225  -0.04277899]\n",
      " [ 0.35008658 -0.33952163]\n",
      " [ 0.51778119 -0.25366187]\n",
      " [-0.55230241 -0.22470452]\n",
      " [-0.08222117 -0.57833712]\n",
      " [-0.34166784  0.63444443]\n",
      " [ 0.41840442  0.58504899]\n",
      " [-0.17157923  0.23225249]\n",
      " [ 0.53075088  0.12934995]\n",
      " [-0.01641534 -0.63560339]\n",
      " [ 0.41579006  0.40666801]\n",
      " [ 0.01970761 -0.63601314]\n",
      " [ 0.43350129  0.14567214]\n",
      " [ 0.24381679 -0.50413879]\n",
      " [ 0.08011541 -0.47987794]\n",
      " [-0.15247086 -0.34091844]\n",
      " [-0.02010138 -0.35709843]\n",
      " [-0.15353412 -0.30133488]\n",
      " [-0.22754764 -0.45049223]\n",
      " [-0.28445673  0.27573356]\n",
      " [ 0.34339799  0.24588752]\n",
      " [ 0.66986706  0.11896605]\n",
      " [ 0.21436568  0.21833323]\n",
      " [-0.20377838  0.55977327]\n",
      " [ 0.31820604  0.08767291]\n",
      " [-0.19657214  0.39573855]\n",
      " [ 0.34423459 -0.13024993]\n",
      " [ 0.1607367  -0.11945297]\n",
      " [ 0.12875367 -0.66848995]\n",
      " [ 0.07969435 -0.38893717]\n",
      " [ 0.49289737 -0.1411253 ]\n",
      " [-0.06978358  0.56977552]\n",
      " [-0.34789814 -0.32585097]\n",
      " [-0.36090089 -0.48196142]\n",
      " [-0.59624891  0.19029082]\n",
      " [-0.11274056 -0.49926902]\n",
      " [-0.66228021 -0.20503714]\n",
      " [ 0.18267302 -0.57876253]\n",
      " [ 0.15637951 -0.21300822]\n",
      " [ 0.2086995   0.06431546]\n",
      " [ 0.18357553  0.30293271]\n",
      " [-0.08765224 -0.2007831 ]\n",
      " [-0.18334149 -0.55512808]\n",
      " [-0.45990624  0.00771741]\n",
      " [ 0.56558726  0.34274924]\n",
      " [ 0.40204514  0.49856493]\n",
      " [-0.42084559  0.46273188]\n",
      " [ 0.66773349  0.26950029]\n",
      " [-0.30311648  0.47587092]\n",
      " [ 0.64487298 -0.15574954]\n",
      " [-0.18141401  0.47664758]\n",
      " [-0.02886047  0.65424075]\n",
      " [ 0.12067867  0.48133638]\n",
      " [ 0.12564352  0.41779   ]\n",
      " [ 0.2197978   0.48012585]\n",
      " [-0.02234991  0.33870444]\n",
      " [-0.34164111  0.03635935]\n",
      " [ 0.48195454  0.00801324]\n",
      " [ 0.47588822 -0.43583832]\n",
      " [-0.55145987  0.3351167 ]\n",
      " [-0.56741825 -0.3537401 ]\n",
      " [ 0.27516297 -0.29429024]\n",
      " [ 0.66884779 -0.08783284]\n",
      " [ 0.06214705  0.61013714]\n",
      " [-0.32433797  0.33120998]\n",
      " [-0.60125174 -0.04188592]\n",
      " [-0.34156012 -0.06836233]\n",
      " [-0.45337609 -0.44518108]\n",
      " [ 0.3243863  -0.45653595]\n",
      " [ 0.33498008 -0.64586206]\n",
      " [-0.33942312 -0.15110746]\n",
      " [-0.1864545   0.15048531]\n",
      " [-0.55215858  0.02889178]\n",
      " [ 0.18507532  0.57896349]\n",
      " [-0.46600997 -0.09927639]\n",
      " [-0.57910421  0.29034629]\n",
      " [-0.58106749  0.10583683]\n",
      " [-0.20835175 -0.05859487]\n",
      " [-0.19967296  0.00640116]\n",
      " [ 0.62736229  0.35942698]]\n",
      "<class 'numpy.ndarray'>\n"
     ]
    },
    {
     "data": {
      "text/plain": [
       "array([ 0.18427284,  0.44206412, -0.03159215, -0.13227196, -0.25873684,\n",
       "        0.05822957,  0.05839902,  0.01170734, -0.43458221,  0.60374328,\n",
       "       -0.25090779,  0.0716498 , -0.22775176, -0.43012185, -0.35275605,\n",
       "       -0.05321665,  0.35480636,  0.5523204 , -0.48429635,  0.19843842,\n",
       "       -0.0217225 ,  0.35008658,  0.51778119, -0.55230241, -0.08222117,\n",
       "       -0.34166784,  0.41840442, -0.17157923,  0.53075088, -0.01641534,\n",
       "        0.41579006,  0.01970761,  0.43350129,  0.24381679,  0.08011541,\n",
       "       -0.15247086, -0.02010138, -0.15353412, -0.22754764, -0.28445673,\n",
       "        0.34339799,  0.66986706,  0.21436568, -0.20377838,  0.31820604,\n",
       "       -0.19657214,  0.34423459,  0.1607367 ,  0.12875367,  0.07969435,\n",
       "        0.49289737, -0.06978358, -0.34789814, -0.36090089, -0.59624891,\n",
       "       -0.11274056, -0.66228021,  0.18267302,  0.15637951,  0.2086995 ,\n",
       "        0.18357553, -0.08765224, -0.18334149, -0.45990624,  0.56558726,\n",
       "        0.40204514, -0.42084559,  0.66773349, -0.30311648,  0.64487298,\n",
       "       -0.18141401, -0.02886047,  0.12067867,  0.12564352,  0.2197978 ,\n",
       "       -0.02234991, -0.34164111,  0.48195454,  0.47588822, -0.55145987,\n",
       "       -0.56741825,  0.27516297,  0.66884779,  0.06214705, -0.32433797,\n",
       "       -0.60125174, -0.34156012, -0.45337609,  0.3243863 ,  0.33498008,\n",
       "       -0.33942312, -0.1864545 , -0.55215858,  0.18507532, -0.46600997,\n",
       "       -0.57910421, -0.58106749, -0.20835175, -0.19967296,  0.62736229])"
      ]
     },
     "execution_count": 45,
     "metadata": {},
     "output_type": "execute_result"
    }
   ],
   "source": [
    "import os  # for os.path.basename\n",
    "\n",
    "import matplotlib.pyplot as plt\n",
    "import matplotlib as mpl\n",
    "\n",
    "from sklearn.manifold import MDS\n",
    "\n",
    "# convert two components as we're plotting points in a two-dimensional plane\n",
    "# \"precomputed\" because we provide a distance matrix\n",
    "# we will also specify `random_state` so the plot is reproducible.\n",
    "mds = MDS(n_components=2, dissimilarity=\"precomputed\", random_state=1)\n",
    "\n",
    "%time pos = mds.fit_transform(similarity_distance)  # shape (n_components, n_samples)\n",
    "\n",
    "print(pos.shape)\n",
    "print(pos)\n",
    "\n",
    "xs, ys = pos[:, 0], pos[:, 1]\n",
    "print(type(xs))\n",
    "xs"
   ]
  },
  {
   "cell_type": "markdown",
   "metadata": {
    "collapsed": true
   },
   "source": [
    "Visualizing document clusters\n",
    "In this section, I demonstrate how you can visualize the document clustering output using matplotlib and mpld3 (a matplotlib wrapper for D3.js).\n",
    "First I define some dictionaries for going from cluster number to color and to cluster name. I based the cluster names off the words that were closest to each cluster centroid."
   ]
  },
  {
   "cell_type": "code",
   "execution_count": 46,
   "metadata": {},
   "outputs": [],
   "source": [
    "#set up colors per clusters using a dict\n",
    "cluster_colors = {0: '#1b9e77', 1: '#d95f02', 2: '#7570b3', 3: '#e7298a', 4: '#66a61e'}\n",
    "\n",
    "#set up cluster names using a dict\n",
    "cluster_names = {0: 'Family, home, war', \n",
    "                 1: 'Police, killed, murders', \n",
    "                 2: 'Father, New York, brothers', \n",
    "                 3: 'Dance, singing, love', \n",
    "                 4: 'Killed, soldiers, captain'}\n"
   ]
  },
  {
   "cell_type": "markdown",
   "metadata": {},
   "source": [
    "Next, I plot the labeled observations (films, film titles) colored by cluster using matplotlib. I won't get into too much detail about the matplotlib plot, but I tried to provide some helpful commenting."
   ]
  },
  {
   "cell_type": "code",
   "execution_count": 47,
   "metadata": {},
   "outputs": [
    {
     "name": "stdout",
     "output_type": "stream",
     "text": [
      "          x         y  label                            title\n",
      "1  0.442064 -0.278698      0         The Shawshank Redemption\n",
      "2 -0.031592 -0.456638      0                 Schindler's List\n",
      "3 -0.132272  0.574538      0                      Raging Bull\n",
      "4 -0.258737 -0.265275      0                       Casablanca\n",
      "5  0.058230  0.256930      4  One Flew Over the Cuckoo's Nest\n",
      "6  0.058399 -0.046128      0               Gone with the Wind\n",
      "7  0.011707  0.462449      0                     Citizen Kane\n",
      "8 -0.434582 -0.296559      0                 The Wizard of Oz\n",
      "9  0.603743 -0.345699      1                          Titanic\n",
      "{0: Int64Index([ 0,  1,  2,  3,  4,  6,  7,  8, 11, 15, 16, 17, 18, 20, 21, 25, 27,\n",
      "            28, 30, 32, 33, 37, 39, 40, 42, 43, 44, 45, 46, 47, 50, 58, 60, 64,\n",
      "            68, 69, 71, 72, 73, 74, 77, 78, 79, 80, 83, 84, 87, 91, 93, 99],\n",
      "           dtype='int64'), 1: Int64Index([ 9, 12, 13, 14, 22, 23, 51, 52, 54, 56, 59, 63, 66, 70, 76, 81, 85,\n",
      "            86, 90, 92, 94, 95, 96, 97, 98],\n",
      "           dtype='int64'), 2: Int64Index([26, 41, 65, 67, 75], dtype='int64'), 3: Int64Index([10, 19, 29, 31, 34, 48, 82, 89], dtype='int64'), 4: Int64Index([5, 24, 35, 36, 38, 49, 53, 55, 57, 61, 62, 88], dtype='int64')}\n",
      "*******\n",
      "group name 0\n",
      "           x         y  label                                          title\n",
      "0   0.184273 -0.011716      0                                  The Godfather\n",
      "1   0.442064 -0.278698      0                       The Shawshank Redemption\n",
      "2  -0.031592 -0.456638      0                               Schindler's List\n",
      "3  -0.132272  0.574538      0                                    Raging Bull\n",
      "4  -0.258737 -0.265275      0                                     Casablanca\n",
      "6   0.058399 -0.046128      0                             Gone with the Wind\n",
      "7   0.011707  0.462449      0                                   Citizen Kane\n",
      "8  -0.434582 -0.296559      0                               The Wizard of Oz\n",
      "11  0.071650  0.131408      0                         The Godfather: Part II\n",
      "15 -0.053217  0.123370      0                              On the Waterfront\n",
      "16  0.354806  0.008230      0                                   Forrest Gump\n",
      "17  0.552320  0.490670      0                             The Sound of Music\n",
      "18 -0.484296  0.172991      0                                West Side Story\n",
      "20 -0.021723 -0.042779      0                     E.T. the Extra-Terrestrial\n",
      "21  0.350087 -0.339522      0                          2001: A Space Odyssey\n",
      "25 -0.341668  0.634444      0                            Singin' in the Rain\n",
      "27 -0.171579  0.232252      0                               Some Like It Hot\n",
      "28  0.530751  0.129350      0                                   12 Angry Men\n",
      "30  0.415790  0.406668      0                                        Amadeus\n",
      "32  0.433501  0.145672      0                                         Gandhi\n",
      "33  0.243817 -0.504139      0  The Lord of the Rings: The Return of the King\n",
      "37 -0.153534 -0.301335      0                                     Unforgiven\n",
      "39 -0.284457  0.275734      0                                          Rocky\n",
      "40  0.343398  0.245888      0                       A Streetcar Named Desire\n",
      "42  0.214366  0.218333      0                          To Kill a Mockingbird\n",
      "43 -0.203778  0.559773      0                           An American in Paris\n",
      "44  0.318206  0.087673      0                    The Best Years of Our Lives\n",
      "45 -0.196572  0.395739      0                                   My Fair Lady\n",
      "46  0.344235 -0.130250      0                                        Ben-Hur\n",
      "47  0.160737 -0.119453      0                                 Doctor Zhivago\n",
      "50  0.492897 -0.141125      0                                     Braveheart\n",
      "58  0.156380 -0.213008      0                                    The Pianist\n",
      "60  0.183576  0.302933      0                                   The Exorcist\n",
      "64  0.565587  0.342749      0                                    City Lights\n",
      "68 -0.303116  0.475871      0                                Midnight Cowboy\n",
      "69  0.644873 -0.155750      0                   Mr. Smith Goes to Washington\n",
      "71 -0.028860  0.654241      0                                     Annie Hall\n",
      "72  0.120679  0.481336      0                                  Out of Africa\n",
      "73  0.125644  0.417790      0                              Good Will Hunting\n",
      "74  0.219798  0.480126      0                            Terms of Endearment\n",
      "77  0.481955  0.008013      0                                          Giant\n",
      "78  0.475888 -0.435838      0                            The Grapes of Wrath\n",
      "79 -0.551460  0.335117      0                                          Shane\n",
      "80 -0.567418 -0.353740      0                                 The Green Mile\n",
      "83  0.062147  0.610137      0                                      Nashville\n",
      "84 -0.324338  0.331210      0                                   The Graduate\n",
      "87 -0.453376 -0.445181      0                              The African Queen\n",
      "91 -0.186455  0.150485      0                             A Clockwork Orange\n",
      "93  0.185075  0.578963      0                              Wuthering Heights\n",
      "99  0.627362  0.359427      0                            Yankee Doodle Dandy\n",
      "*******\n",
      "group name 1\n",
      "           x         y  label                               title\n",
      "9   0.603743 -0.345699      1                             Titanic\n",
      "12 -0.227752  0.068672      1                              Psycho\n",
      "13 -0.430122  0.285286      1                        Sunset Blvd.\n",
      "14 -0.352756  0.127061      1                             Vertigo\n",
      "22  0.517781 -0.253662      1            The Silence of the Lambs\n",
      "23 -0.552302 -0.224705      1                           Chinatown\n",
      "51 -0.069784  0.569776      1      The Good, the Bad and the Ugly\n",
      "52 -0.347898 -0.325851      1  Butch Cassidy and the Sundance Kid\n",
      "54 -0.596249  0.190291      1                       The Apartment\n",
      "56 -0.662280 -0.205037      1                           High Noon\n",
      "59  0.208700  0.064315      1                          Goodfellas\n",
      "63 -0.459906  0.007717      1               The French Connection\n",
      "66 -0.420846  0.462732      1               It Happened One Night\n",
      "70 -0.181414  0.476648      1                            Rain Man\n",
      "76 -0.341641  0.036359      1                               Fargo\n",
      "81  0.275163 -0.294290      1  Close Encounters of the Third Kind\n",
      "85 -0.601252 -0.041886      1                   American Graffiti\n",
      "86 -0.341560 -0.068362      1                        Pulp Fiction\n",
      "90 -0.339423 -0.151107      1                  The Maltese Falcon\n",
      "92 -0.552159  0.028892      1                         Taxi Driver\n",
      "94 -0.466010 -0.099276      1                    Double Indemnity\n",
      "95 -0.579104  0.290346      1               Rebel Without a Cause\n",
      "96 -0.581067  0.105837      1                         Rear Window\n",
      "97 -0.208352 -0.058595      1                       The Third Man\n",
      "98 -0.199673  0.006401      1                  North by Northwest\n",
      "*******\n",
      "group name 2\n",
      "           x         y  label                   title\n",
      "26  0.418404  0.585049      2   It's a Wonderful Life\n",
      "41  0.669867  0.118966      2  The Philadelphia Story\n",
      "65  0.402045  0.498565      2       The King's Speech\n",
      "67  0.667733  0.269500      2      A Place in the Sun\n",
      "75 -0.022350  0.338704      2                 Tootsie\n",
      "*******\n",
      "group name 3\n",
      "           x         y  label  \\\n",
      "10 -0.250908 -0.574830      3   \n",
      "19  0.198438 -0.389292      3   \n",
      "29 -0.016415 -0.635603      3   \n",
      "31  0.019708 -0.636013      3   \n",
      "34  0.080115 -0.479878      3   \n",
      "48  0.128754 -0.668490      3   \n",
      "82  0.668848 -0.087833      3   \n",
      "89  0.334980 -0.645862      3   \n",
      "\n",
      "                                                title  \n",
      "10                                 Lawrence of Arabia  \n",
      "19                                          Star Wars  \n",
      "29  Dr. Strangelove or: How I Learned to Stop Worr...  \n",
      "31                                     Apocalypse Now  \n",
      "34                                          Gladiator  \n",
      "48                                             Patton  \n",
      "82                                            Network  \n",
      "89                               Mutiny on the Bounty  \n",
      "*******\n",
      "group name 4\n",
      "           x         y  label                             title\n",
      "5   0.058230  0.256930      4   One Flew Over the Cuckoo's Nest\n",
      "24 -0.082221 -0.578337      4      The Bridge on the River Kwai\n",
      "35 -0.152471 -0.340918      4             From Here to Eternity\n",
      "36 -0.020101 -0.357098      4               Saving Private Ryan\n",
      "38 -0.227548 -0.450492      4           Raiders of the Lost Ark\n",
      "49  0.079694 -0.388937      4                              Jaws\n",
      "53 -0.360901 -0.481961      4  The Treasure of the Sierra Madre\n",
      "55 -0.112741 -0.499269      4                           Platoon\n",
      "57  0.182673 -0.578763      4                Dances with Wolves\n",
      "61 -0.087652 -0.200783      4                   The Deer Hunter\n",
      "62 -0.183341 -0.555128      4    All Quiet on the Western Front\n",
      "88  0.324386 -0.456536      4                        Stagecoach\n"
     ]
    },
    {
     "name": "stderr",
     "output_type": "stream",
     "text": [
      "/home/xprilion/anaconda3/lib/python3.7/site-packages/matplotlib/cbook/deprecation.py:107: MatplotlibDeprecationWarning: Passing one of 'on', 'true', 'off', 'false' as a boolean is deprecated; use an actual boolean (True/False) instead.\n",
      "  warnings.warn(message, mplDeprecation, stacklevel=1)\n",
      "/home/xprilion/anaconda3/lib/python3.7/site-packages/ipykernel_launcher.py:44: DeprecationWarning: \n",
      ".ix is deprecated. Please use\n",
      ".loc for label based indexing or\n",
      ".iloc for positional indexing\n",
      "\n",
      "See the documentation here:\n",
      "http://pandas.pydata.org/pandas-docs/stable/indexing.html#ix-indexer-is-deprecated\n"
     ]
    },
    {
     "data": {
      "image/png": "[encoded data removed]",
      "text/plain": [
       "<Figure size 1224x648 with 1 Axes>"
      ]
     },
     "metadata": {},
     "output_type": "display_data"
    }
   ],
   "source": [
    "#some ipython magic to show the matplotlib plots inline\n",
    "%matplotlib inline \n",
    "\n",
    "#create data frame that has the result of the MDS plus the cluster numbers and titles\n",
    "df = pd.DataFrame(dict(x=xs, y=ys, label=clusters, title=titles)) \n",
    "\n",
    "print(df[1:10])\n",
    "# group by cluster\n",
    "# this generate {name:group(which is a dataframe)}\n",
    "groups = df.groupby('label')\n",
    "print(groups.groups)\n",
    "\n",
    "\n",
    "# set up plot\n",
    "fig, ax = plt.subplots(figsize=(17, 9)) # set size\n",
    "# ax.margins(0.05) # Optional, just adds 5% padding to the autoscaling\n",
    "\n",
    "#iterate through groups to layer the plot\n",
    "#note that I use the cluster_name and cluster_color dicts with the 'name' lookup to return the appropriate color/label\n",
    "# ms: marker size\n",
    "for name, group in groups:\n",
    "    print(\"*******\")\n",
    "    print(\"group name \" + str(name))\n",
    "    print(group)\n",
    "    ax.plot(group.x, group.y, marker='o', linestyle='', ms=20, \n",
    "            label=cluster_names[name], color=cluster_colors[name], \n",
    "            mec='none')\n",
    "    ax.set_aspect('auto')\n",
    "    ax.tick_params(\\\n",
    "        axis= 'x',          # changes apply to the x-axis\n",
    "        which='both',      # both major and minor ticks are affected\n",
    "        bottom='off',      # ticks along the bottom edge are off\n",
    "        top='off',         # ticks along the top edge are off\n",
    "        labelbottom='off')\n",
    "    ax.tick_params(\\\n",
    "        axis= 'y',         # changes apply to the y-axis\n",
    "        which='both',      # both major and minor ticks are affected\n",
    "        left='off',      # ticks along the bottom edge are off\n",
    "        top='off',         # ticks along the top edge are off\n",
    "        labelleft='off')\n",
    "    \n",
    "ax.legend(numpoints=1)  #show legend with only 1 point\n",
    "\n",
    "#add label in x,y position with the label as the film title\n",
    "for i in range(len(df)):\n",
    "    ax.text(df.ix[i]['x'], df.ix[i]['y'], df.ix[i]['title'], size=10)  \n",
    "\n",
    "    \n",
    "    \n",
    "plt.show() #show the plot\n",
    "\n",
    "#uncomment the below to save the plot if need be\n",
    "#plt.savefig('clusters_small_noaxes.png', dpi=200)"
   ]
  },
  {
   "cell_type": "markdown",
   "metadata": {},
   "source": [
    "Use plotly to generate interactive chart. I have to downgrade matplotlib to 1.3.1 for this chart to work with plotly. see https://github.com/harrywang/plotly/blob/master/README.md for how to setup plotly. After running the following, a browser will open to show the plotly chart."
   ]
  },
  {
   "cell_type": "code",
   "execution_count": 48,
   "metadata": {},
   "outputs": [],
   "source": [
    "# import plotly.plotly as py\n",
    "# plot_url = py.plot_mpl(fig)"
   ]
  },
  {
   "cell_type": "code",
   "execution_count": null,
   "metadata": {},
   "outputs": [],
   "source": []
  }
 ],
 "metadata": {
  "kernelspec": {
   "display_name": "Python 3",
   "language": "python",
   "name": "python3"
  },
  "language_info": {
   "codemirror_mode": {
    "name": "ipython",
    "version": 3
   },
   "file_extension": ".py",
   "mimetype": "text/x-python",
   "name": "python",
   "nbconvert_exporter": "python",
   "pygments_lexer": "ipython3",
   "version": "3.7.0"
  }
 },
 "nbformat": 4,
 "nbformat_minor": 1
}
